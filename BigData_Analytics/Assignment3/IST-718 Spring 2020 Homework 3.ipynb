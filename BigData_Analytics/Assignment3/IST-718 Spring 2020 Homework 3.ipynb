{
 "cells": [
  {
   "cell_type": "markdown",
   "metadata": {},
   "source": [
    "##### Grading Feedback Cell\n",
    "104"
   ]
  },
  {
   "cell_type": "markdown",
   "metadata": {},
   "source": [
    "# IST 718: Big Data Analytics\n",
    "\n",
    "- Professor: Willard Williamson <wewillia@syr.edu>\n",
    "- Faculty Assistant: Yash Pasar <yspasar@syr.edu>\n",
    "## General instructions:\n",
    "\n",
    "- You are welcome to discuss the problems with your classmates but __you are not allowed to copy any part of your answers from your classmates.  Short code snippets are allowed from the internet.  Code from the class text books or class provided code can be copied in its entirety.__\n",
    "- There could be tests in some cells (i.e., `assert` and `np.testing.` statements). These tests (if present) are used to grade your answers. **However, the professor and FAs could use __additional__ test for your answer. Think about cases where your code should run even if it passess all the tests you see.**\n",
    "- Before submitting your work, remember to check for run time errors with the following procedure:\n",
    "`Kernel`$\\rightarrow$`Restart and Run All`.  All runtime errors will result in a minimum penalty of half off.\n",
    "- Data Bricks is the official class runtime environment so you should test your code on Data Bricks before submission.  If there is a runtime problem in the grading environment, we will try your code on Data Bricks before making a final grading decision.\n",
    "- All plots shall include a title, and axis labels.\n",
    "- Grading feedback cells are there for graders to provide feedback to students.  Don't change or remove grading feedback cells.\n",
    "- Don't add or remove files from your git repo.\n",
    "- Do not change file names in your repo.  This also means don't change the title of the ipython notebook.\n",
    "- __Only use spark, spark machine learning, spark data frames, RDD's, and map reduce to solve all problems unless instructed otherwise.__"
   ]
  },
  {
   "cell_type": "code",
   "execution_count": 1,
   "metadata": {
    "deletable": false,
    "editable": false,
    "nbgrader": {
     "checksum": "34b858b2a4dae4c0c6569a235758d7e7",
     "grade": true,
     "grade_id": "cell-16fe9b731c74bdb1",
     "locked": true,
     "points": 5,
     "schema_version": 1,
     "solution": false
    }
   },
   "outputs": [],
   "source": [
    "# read only cell\n",
    "\n",
    "import os\n",
    "\n",
    "# get the databricks runtime version\n",
    "db_env = os.getenv(\"DATABRICKS_RUNTIME_VERSION\")\n",
    "\n",
    "# Define a function to read the data file.  The full path data file name is constructed\n",
    "# by checking runtime environment variables to determine if the runtime environment is \n",
    "# databricks, or a student's personal computer.  The full path file name is then\n",
    "# constructed based on the runtime env.\n",
    "# \n",
    "# Params\n",
    "#   data_file_name: The base name of the data file to load\n",
    "# \n",
    "# Returns the full path file name based on the runtime env\n",
    "#\n",
    "def get_training_filename(data_file_name):    \n",
    "    # if the databricks env var exists\n",
    "    if db_env != None:\n",
    "        # build the full path file name assuming data brick env\n",
    "        full_path_name = \"/FileStore/tables/%s\" % data_file_name\n",
    "    # else the data is assumed to be in the same dir as this notebook\n",
    "    else:\n",
    "        # Assume the student is running on their own computer and load the data\n",
    "        # file from the same dir as this notebook\n",
    "        full_path_name = data_file_name\n",
    "    \n",
    "    # return the full path file name to the caller\n",
    "    return full_path_name"
   ]
  },
  {
   "cell_type": "code",
   "execution_count": 2,
   "metadata": {},
   "outputs": [],
   "source": [
    "# import statements here\n",
    "# create spark and sparkcontext objects\n",
    "from pyspark.sql import functions as fn\n",
    "from pyspark.sql import SparkSession\n",
    "from pyspark.sql import Row\n",
    "from pyspark.ml import feature\n",
    "from pyspark.ml import Pipeline\n",
    "from pyspark.ml import regression\n",
    "from pyspark.ml import classification\n",
    "from math import exp #log10, fabs, atan, log\n",
    "from pyspark.ml.feature import StandardScaler\n",
    "\n",
    "from pyspark.sql.functions import array_contains, lit\n",
    "\n",
    "import numpy as np\n",
    "import pandas as pd\n",
    "import matplotlib.pyplot as plt\n",
    "spark = SparkSession.builder.getOrCreate()\n",
    "sc = spark.sparkContext\n"
   ]
  },
  {
   "cell_type": "markdown",
   "metadata": {},
   "source": [
    "# Moore's Law\n",
    "The frequently cited “Moore’s Law” originated with a 1965 article in Electronics magazine that said the number of transistors in a given area would double every year."
   ]
  },
  {
   "cell_type": "markdown",
   "metadata": {},
   "source": [
    "### ONLY use spark functions unless the question instructions say otherwise."
   ]
  },
  {
   "cell_type": "markdown",
   "metadata": {},
   "source": [
    "## Question 1 Load the Transistor Data (5 pts)\n",
    "- Read the MooresLaw.txt file into a spark data frame named trans_df using only spark.  The columns should be named as per the header in the txt file.\n",
    "- Print the first 5 rows of trans_df \n",
    "- Print the shape of trans_df (num_rows, num_cols)\n",
    "- Make sure to use the get_training_filename function above to obtain the file name based on your runtime environment"
   ]
  },
  {
   "cell_type": "code",
   "execution_count": 3,
   "metadata": {},
   "outputs": [
    {
     "name": "stdout",
     "output_type": "stream",
     "text": [
      "+---------------+------+-----------+----+----+----+----+\n",
      "|Intel Processor|  Year|Transistors| _c3| _c4| _c5| _c6|\n",
      "+---------------+------+-----------+----+----+----+----+\n",
      "|           4004|1971.9|       2300|null|null|null|null|\n",
      "|           8008|1972.3|       3500|null|null|null|null|\n",
      "|           8080|1974.3|       6000|null|null|null|null|\n",
      "|           8085|1976.3|       6500|null|null|null|null|\n",
      "|           8086|1978.5|      29000|null|null|null|null|\n",
      "+---------------+------+-----------+----+----+----+----+\n",
      "only showing top 5 rows\n",
      "\n",
      "root\n",
      " |-- Intel Processor: string (nullable = true)\n",
      " |-- Year: double (nullable = true)\n",
      " |-- Transistors: long (nullable = true)\n",
      " |-- _c3: string (nullable = true)\n",
      " |-- _c4: string (nullable = true)\n",
      " |-- _c5: string (nullable = true)\n",
      " |-- _c6: string (nullable = true)\n",
      "\n",
      "No of rows and columns in trans_df:(74,7)\n"
     ]
    }
   ],
   "source": [
    "# your code here\n",
    "trans_df = spark.read.option(\"header\",\"true\").option(\"delimiter\",\"\\t\").option(\"inferSchema\",\"true\").csv(\"mooresLaw.txt\")\n",
    "\n",
    "#Printing the first 5 rows of trans_df\n",
    "trans_df.show(5)\n",
    "trans_df.printSchema()\n",
    "\n",
    "#Printing the shape of trans_df (num_rows, num_cols)\n",
    "print(f\"No of rows and columns in trans_df:({trans_df.count()},{len(trans_df.columns)})\")"
   ]
  },
  {
   "cell_type": "markdown",
   "metadata": {},
   "source": [
    "##### Grading Feedback Cell"
   ]
  },
  {
   "cell_type": "markdown",
   "metadata": {},
   "source": [
    "## Question 2 Transistor Data Cleanup (5 pts)\n",
    "- Drop all columns in trans_df except the Year and Transistors column.\n",
    "- Drop rows in trans_df that contain NaN vales\n",
    "- Prove that trans_df does not contain NaN values by showing a single integer sum of the number of Nan values in the dataframe (should equal 0)"
   ]
  },
  {
   "cell_type": "code",
   "execution_count": 4,
   "metadata": {},
   "outputs": [
    {
     "name": "stdout",
     "output_type": "stream",
     "text": [
      "+------+-----------+\n",
      "|  Year|Transistors|\n",
      "+------+-----------+\n",
      "|1971.9|       2300|\n",
      "|1972.3|       3500|\n",
      "|1974.3|       6000|\n",
      "|1976.3|       6500|\n",
      "|1978.5|      29000|\n",
      "+------+-----------+\n",
      "only showing top 5 rows\n",
      "\n"
     ]
    }
   ],
   "source": [
    "# your code here\n",
    "#Dropped all columns in trans_df except the Year and Transistors column.\n",
    "cols_to_be_dropped={'Intel Processor', '_c3', '_c4','_c5','_c6'}\n",
    "trans_df=trans_df.drop(*cols_to_be_dropped)\n",
    "trans_df.show(5)\n"
   ]
  },
  {
   "cell_type": "code",
   "execution_count": 5,
   "metadata": {},
   "outputs": [],
   "source": [
    "#Drop rows in trans_df that contain NaN vales\n",
    "from pyspark.sql.functions import when, count, col,isnan "
   ]
  },
  {
   "cell_type": "code",
   "execution_count": 6,
   "metadata": {},
   "outputs": [
    {
     "name": "stdout",
     "output_type": "stream",
     "text": [
      "No of NaN values:\n",
      "+----+-----------+\n",
      "|Year|Transistors|\n",
      "+----+-----------+\n",
      "|   0|          0|\n",
      "+----+-----------+\n",
      "\n",
      "No of NULL values:\n",
      "+----+-----------+\n",
      "|Year|Transistors|\n",
      "+----+-----------+\n",
      "|   0|          0|\n",
      "+----+-----------+\n",
      "\n"
     ]
    }
   ],
   "source": [
    "#Checking no of NaN values:\n",
    "print(\"No of NaN values:\")\n",
    "trans_df.select([count(when(isnan(c), c)).alias(c) for c in trans_df.columns]).show()\n",
    "\n",
    "#Checking no of Null values:\n",
    "print(\"No of NULL values:\")\n",
    "trans_df.select([count(when(col(c).isNull(), c)).alias(c) for c in \n",
    "           trans_df.columns]).show()"
   ]
  },
  {
   "cell_type": "markdown",
   "metadata": {},
   "source": [
    "##### Grading Feedback Cell"
   ]
  },
  {
   "cell_type": "markdown",
   "metadata": {},
   "source": [
    "## Question 3 Transistor Data Exploration (10 pts)\n"
   ]
  },
  {
   "cell_type": "markdown",
   "metadata": {},
   "source": [
    "### Question 3a (3 pts) \n",
    "Explore the data in trans_df by plotting transistors vs. year with a scatter plot.  You may use packages outside of spark to perform the task in question 3a."
   ]
  },
  {
   "cell_type": "code",
   "execution_count": 7,
   "metadata": {},
   "outputs": [
    {
     "data": {
      "image/png": "[encoded data removed]",
      "text/plain": [
       "<Figure size 432x288 with 1 Axes>"
      ]
     },
     "metadata": {
      "needs_background": "light"
     },
     "output_type": "display_data"
    }
   ],
   "source": [
    "# Your code here\n",
    "# Convert to Pandas DataFrame  \n",
    "trans_df.select('Year','Transistors').toPandas().plot(x='Year',y='Transistors',kind='scatter',title=\"Transistors vs. Year Scatter Plot\",s=100,alpha=0.4,color=\"deeppink\")\n",
    "plt.show()\n"
   ]
  },
  {
   "cell_type": "markdown",
   "metadata": {},
   "source": [
    "##### Grading Feedback Cell"
   ]
  },
  {
   "cell_type": "markdown",
   "metadata": {},
   "source": [
    "### Question 3b (3 pts)\n",
    "Compute the correlation between year and number of transistors in the trans_df using spark.  Print the resulting correlation value.  Interpret the correlation in words in the provided markdown cell."
   ]
  },
  {
   "cell_type": "code",
   "execution_count": 8,
   "metadata": {},
   "outputs": [
    {
     "name": "stdout",
     "output_type": "stream",
     "text": [
      "Correlation coefficient of trans_df is: 0.5434352929286356\n"
     ]
    }
   ],
   "source": [
    "# your code here\n",
    "from pyspark.sql.functions import rand\n",
    "Correlation =trans_df.stat.corr('Year', 'Transistors')\n",
    "print(f\"Correlation coefficient of trans_df is: {Correlation}\")\n"
   ]
  },
  {
   "cell_type": "markdown",
   "metadata": {},
   "source": [
    "##### Grading Feedback Cell"
   ]
  },
  {
   "cell_type": "markdown",
   "metadata": {},
   "source": [
    "### Question 3c (4 pts) \n",
    "- Interpret the correlation value computed above in the markdown cell below."
   ]
  },
  {
   "cell_type": "markdown",
   "metadata": {},
   "source": [
    "Your correlation interpretation here:\n",
    "Correlation Coefficient: A correlation coefficient is a quantitative assessment that measures both the direction and the strength of this tendency to vary together.\n",
    "\n",
    "The sign of the correlation coefficient represents the direction of the relationship.\n",
    "1. With 0.5434352929286356, coefficient is positive which indicates that when the value of one variable increases, the value of the other variable also tends to increase. \n",
    "\n",
    "When the value is in-between 0 and +1/-1, there is a relationship. As r approaches -1 or 1,the strength of the relationship increases and the data points tend to fall closer to a line.\n",
    "2. 0.5434352929286356 a moderate positive relationship since it is closer to (0.6-1 range). \n",
    "\n",
    "\n"
   ]
  },
  {
   "cell_type": "markdown",
   "metadata": {},
   "source": [
    "##### Grading Feedback Cell"
   ]
  },
  {
   "cell_type": "markdown",
   "metadata": {},
   "source": [
    "## Question 4 Transform the Data (10 pts)"
   ]
  },
  {
   "cell_type": "markdown",
   "metadata": {},
   "source": [
    "### Question 4a (5 pts)\n",
    "- Create a new data frame named trans_df_2 that adds a log transform to the transistors col in trans_df.\n",
    "- Print the head of trans_df_2\n",
    "- Print the shape of trans_df_2"
   ]
  },
  {
   "cell_type": "code",
   "execution_count": 9,
   "metadata": {},
   "outputs": [
    {
     "name": "stdout",
     "output_type": "stream",
     "text": [
      "Head of the trans_df_2:\n",
      "[Row(Year=1971.9, Transistors=2300, Transistors_Log=7.7406644019172415)]\n",
      "\n",
      "Shape of the trans_df_2:(74,3)\n"
     ]
    }
   ],
   "source": [
    "#Creating a new data frame named trans_df_2 that adds a log transform to the transistors col in trans_df.\n",
    "trans_df_2 = trans_df.select('Year', 'Transistors',fn.log('Transistors').alias('Transistors_Log'))\n",
    "\n",
    "#The head of trans_df_2\n",
    "print(f\"Head of the trans_df_2:\\n{trans_df_2.head(1)}\\n\")\n",
    "\n",
    "#The shape of trans_df_2\n",
    "print(f\"Shape of the trans_df_2:({trans_df_2.count()},{len(trans_df_2.columns)})\")\n"
   ]
  },
  {
   "cell_type": "markdown",
   "metadata": {},
   "source": [
    "##### Grading Feedback Cell\n",
    "-1 for not printing the head of the dataframe correctly"
   ]
  },
  {
   "cell_type": "markdown",
   "metadata": {},
   "source": [
    "### Question 4b (5 pts)\n",
    "- Using trans_df_2, create a scatter plot of log transistors vs. year.  You may use packages outside of spark for this task."
   ]
  },
  {
   "cell_type": "code",
   "execution_count": 10,
   "metadata": {},
   "outputs": [
    {
     "data": {
      "image/png": "[encoded data removed]",
      "text/plain": [
       "<Figure size 432x288 with 1 Axes>"
      ]
     },
     "metadata": {
      "needs_background": "light"
     },
     "output_type": "display_data"
    }
   ],
   "source": [
    "#Scatter plot of log transistors vs. year.\n",
    "trans_df_2.select('Year','Transistors_log').toPandas().plot(x='Year',y='Transistors_log',kind='scatter',title=\"Transistors_log vs. Year Scatter Plot\",s=25,alpha=0.9,color=\"deepskyblue\")\n",
    "plt.show()"
   ]
  },
  {
   "cell_type": "markdown",
   "metadata": {},
   "source": [
    "##### Grading Feedback Cell"
   ]
  },
  {
   "cell_type": "markdown",
   "metadata": {},
   "source": [
    "## Question 5 Fit a Linear Regression Pipeline (10 pts)"
   ]
  },
  {
   "cell_type": "markdown",
   "metadata": {},
   "source": [
    "### Question 5a ( 2 pts)\n",
    "- Split trans_df_2 into train and test splits with a 60:40 ratio.  Name the resulting data frames trans_train and trans_test.  Print the shape of of the train and test data frames."
   ]
  },
  {
   "cell_type": "code",
   "execution_count": 11,
   "metadata": {},
   "outputs": [],
   "source": [
    "#Splitting trans_df_2 into train and test splits with a 60:40 ratio.\n",
    "from pyspark.ml.evaluation import RegressionEvaluator\n",
    "from pyspark.ml.regression import LinearRegression\n",
    "from pyspark.ml.tuning import ParamGridBuilder, TrainValidationSplit\n",
    "trans_train,trans_test = trans_df_2.randomSplit([0.6, 0.4], seed=12345)"
   ]
  },
  {
   "cell_type": "code",
   "execution_count": 12,
   "metadata": {},
   "outputs": [
    {
     "name": "stdout",
     "output_type": "stream",
     "text": [
      "Shape of trans_train:(49,3)\n",
      "+------+-----------+------------------+\n",
      "|  Year|Transistors|   Transistors_Log|\n",
      "+------+-----------+------------------+\n",
      "|1971.9|       2300|7.7406644019172415|\n",
      "|1972.3|       3500| 8.160518247477505|\n",
      "+------+-----------+------------------+\n",
      "only showing top 2 rows\n",
      "\n",
      "Shape of trans_test:(25,3)\n",
      "+------+-----------+------------------+\n",
      "|  Year|Transistors|   Transistors_Log|\n",
      "+------+-----------+------------------+\n",
      "|1978.5|      29000|10.275051108968611|\n",
      "|1979.5|      29000|10.275051108968611|\n",
      "+------+-----------+------------------+\n",
      "only showing top 2 rows\n",
      "\n"
     ]
    }
   ],
   "source": [
    "#Shape of of the train and test data frames.\n",
    "\n",
    "print(f\"Shape of trans_train:({trans_train.count()},{len(trans_train.columns)})\")\n",
    "trans_train.show(2)\n",
    "print(f\"Shape of trans_test:({trans_test.count()},{len(trans_test.columns)})\")\n",
    "trans_test.show(2)\n"
   ]
  },
  {
   "cell_type": "markdown",
   "metadata": {},
   "source": [
    "##### Grading Feedback Cell"
   ]
  },
  {
   "cell_type": "markdown",
   "metadata": {},
   "source": [
    "### Question 5b (6 pts)\n",
    "- Create a spark pipeline named trans_pipe to perform linear regression\n",
    "- Fit the pipeline using the transistors as the targets and year as the features.  Name the resulting fitted pipeline fitted_trans_pipe.\n",
    "- Fit another pipeline using the log transistors column as the targets and year as the features.  Name the resulting fitted pipeline log_fitted_trans_pipe."
   ]
  },
  {
   "cell_type": "code",
   "execution_count": 13,
   "metadata": {},
   "outputs": [],
   "source": [
    "# your code here\n",
    "\n",
    "trans_pipe = Pipeline(stages=[feature.VectorAssembler(inputCols=['_features'],\n",
    "                                        outputCol='features'),\n",
    "                  regression.LinearRegression(labelCol='_features', featuresCol='features')])\n",
    "\n",
    "\n",
    "\n",
    "\n",
    "\n",
    "fitted_trans_pipe = Pipeline(stages=[feature.VectorAssembler(inputCols=['Year'],\n",
    "                                        outputCol='features'),\n",
    "                  regression.LinearRegression(labelCol='Transistors', featuresCol='features')]).fit(trans_train)\n",
    "\n",
    "\n",
    "log_fitted_trans_pipe = Pipeline(stages=[feature.VectorAssembler(inputCols=['Year'],\n",
    "                                        outputCol='features'),\n",
    "                  regression.LinearRegression(labelCol='Transistors_Log', featuresCol='features')]).fit(trans_train)\n"
   ]
  },
  {
   "cell_type": "markdown",
   "metadata": {},
   "source": [
    "##### Grading Feedback Cell"
   ]
  },
  {
   "cell_type": "markdown",
   "metadata": {},
   "source": [
    "### Question 5c (2 pts)\n",
    "- Print the linear regression coefficient in the linear regression object in each fitted model\n",
    "- Print the linear regression Y intercept in the linear regression object in each fitted model"
   ]
  },
  {
   "cell_type": "code",
   "execution_count": 14,
   "metadata": {},
   "outputs": [
    {
     "name": "stdout",
     "output_type": "stream",
     "text": [
      "For fitted_trans_pipe:\n",
      "\n",
      "The linear regression coefficient in the linear regression object is:\t \n",
      "[64462706.310680375]\n",
      "The linear regression Y intercept in the linear regression object is:\t \n",
      "-128294241828.26088\n",
      "\n",
      "For log_fitted_trans_pipe:\n",
      "\n",
      "The linear regression coefficient in the linear regression object is:\t \n",
      "[0.339246771291069]\n",
      "The linear regression Y intercept in the linear regression object is:\t \n",
      "-661.1615269651243\n"
     ]
    }
   ],
   "source": [
    "# your code here\n",
    "print(\"For fitted_trans_pipe:\\n\") \n",
    "coefficient = fitted_trans_pipe.stages[1].coefficients\n",
    "print(f\"The linear regression coefficient in the linear regression object is:\\t \\n{coefficient}\")\n",
    "intercept = fitted_trans_pipe.stages[1].intercept\n",
    "print(f\"The linear regression Y intercept in the linear regression object is:\\t \\n{intercept}\\n\")\n",
    "\n",
    "\n",
    "print(\"For log_fitted_trans_pipe:\\n\")\n",
    "coefficient = log_fitted_trans_pipe.stages[1].coefficients\n",
    "print(f\"The linear regression coefficient in the linear regression object is:\\t \\n{coefficient}\")\n",
    "intercept = log_fitted_trans_pipe.stages[1].intercept\n",
    "print(f\"The linear regression Y intercept in the linear regression object is:\\t \\n{intercept}\")\n",
    "\n",
    "\n"
   ]
  },
  {
   "cell_type": "markdown",
   "metadata": {},
   "source": [
    "##### Grading Feedback Cell"
   ]
  },
  {
   "cell_type": "markdown",
   "metadata": {},
   "source": [
    "### Question 6 Test the linear regression pipeline (10 pts)"
   ]
  },
  {
   "cell_type": "markdown",
   "metadata": {},
   "source": [
    "### Question 6a (5 pts)\n",
    "- Compute mean squared error (MSE) using the transform method on each fitted model.\n",
    "- Print the resulting MSEs."
   ]
  },
  {
   "cell_type": "code",
   "execution_count": 15,
   "metadata": {},
   "outputs": [
    {
     "name": "stdout",
     "output_type": "stream",
     "text": [
      "The MSE for fitted_trans_pipe is:\n",
      "+--------------------+\n",
      "|                mse1|\n",
      "+--------------------+\n",
      "|1.001273219877531...|\n",
      "+--------------------+\n",
      "\n",
      "The MSE for log_fitted_trans_pipe is:\n",
      "+------------------+\n",
      "|              mse2|\n",
      "+------------------+\n",
      "|0.5249044040063555|\n",
      "+------------------+\n",
      "\n"
     ]
    }
   ],
   "source": [
    "# your code here\n",
    "mse1 = fn.mean((fn.col('Transistors') - fn.col('prediction'))**2).alias('mse1')\n",
    "mse2 = fn.mean((fn.col('Transistors_log') - fn.col('prediction'))**2).alias('mse2')\n",
    "\n",
    "print(f\"The MSE for fitted_trans_pipe is:\")\n",
    "fitted_trans_pipe.transform(trans_test).select(mse1).show()\n",
    "\n",
    "print(f\"The MSE for log_fitted_trans_pipe is:\")\n",
    "log_fitted_trans_pipe.transform(trans_test).select(mse2).show()"
   ]
  },
  {
   "cell_type": "markdown",
   "metadata": {},
   "source": [
    "##### Grading Feedback Cell"
   ]
  },
  {
   "cell_type": "markdown",
   "metadata": {},
   "source": [
    "### Question 6b (5 pts)\n",
    "- Using log_fitted_trans_pipe and any needed support code, predict and print the number of transistors for the years 1970.0, 1980.0, 1990.0, 2000.0, and 2010.0"
   ]
  },
  {
   "cell_type": "code",
   "execution_count": 16,
   "metadata": {},
   "outputs": [
    {
     "name": "stdout",
     "output_type": "stream",
     "text": [
      "Number of Transistors for year 1970:  1279.9963153563986\n",
      "Number of Transistors for year 1980:  38066.13006963507\n",
      "Number of Transistors for year 1990:  1132058.1482104317\n",
      "Number of Transistors for year 2000:  33666559.97300641\n",
      "Number of Transistors for year 2010:  1001218234.423432\n"
     ]
    }
   ],
   "source": [
    "t_1970 = exp(log_fitted_trans_pipe.stages[1].intercept + (log_fitted_trans_pipe.stages[1].coefficients[0])*1970)\n",
    "t_1980 = exp(log_fitted_trans_pipe.stages[1].intercept + (log_fitted_trans_pipe.stages[1].coefficients[0])*1980)\n",
    "t_1990 = exp(log_fitted_trans_pipe.stages[1].intercept + (log_fitted_trans_pipe.stages[1].coefficients[0])*1990)\n",
    "t_2000 = exp(log_fitted_trans_pipe.stages[1].intercept + (log_fitted_trans_pipe.stages[1].coefficients[0])*2000)\n",
    "t_2010 = exp(log_fitted_trans_pipe.stages[1].intercept + (log_fitted_trans_pipe.stages[1].coefficients[0])*2010)\n",
    "print(\"Number of Transistors for year 1970: \",t_1970)\n",
    "print(\"Number of Transistors for year 1980: \",t_1980)\n",
    "print(\"Number of Transistors for year 1990: \",t_1990)\n",
    "print(\"Number of Transistors for year 2000: \",t_2000)\n",
    "print(\"Number of Transistors for year 2010: \",t_2010)\n"
   ]
  },
  {
   "cell_type": "markdown",
   "metadata": {},
   "source": [
    "##### Grading Feedback Cell"
   ]
  },
  {
   "cell_type": "markdown",
   "metadata": {},
   "source": [
    "# Climate Change"
   ]
  },
  {
   "cell_type": "markdown",
   "metadata": {},
   "source": [
    "## Question 7 Load the global warming data (5 pts)\n",
    "- Read the globalWarm.txt file into a spark data frame named global_warm_df using only spark.  The columns should be named as per the header in the txt file.\n",
    "- Print the first 5 rows of global_warm_df \n",
    "- Print the shape of global_warm_df (num_rows, num_cols)\n",
    "- Make sure to use the get_training_filename function above to obtain the file name based on your runtime environment\n",
    "- A data description follows:\n",
    "<ul>\n",
    "<li/>Temp = annual surface temperature measured in 1/100<sup>o</sup> C   over the 1950-1980 mean.  \n",
    "<li/>Solar = annual mean intensity of sunlight piercing the atmosphere\n",
    "<li/>CO2 = annual average fraction CO<sub>2</sub> in atmosphere (#molecules/#molecules of dry air) \n",
    "<li/>IceShelf = sea ice in 1MM square miles  hypothesized to reflect heat\n",
    "<li/>Transmission = volcanic MLO transmission data where eruptions release greenhouse gases but also decrease the temperature\n",
    "</ul>"
   ]
  },
  {
   "cell_type": "code",
   "execution_count": 17,
   "metadata": {},
   "outputs": [
    {
     "name": "stdout",
     "output_type": "stream",
     "text": [
      "+----+----+------+-------+------------+--------+\n",
      "|Year|Temp|   CO2|  Solar|Transmission|IceShelf|\n",
      "+----+----+------+-------+------------+--------+\n",
      "|1979|   8|336.67|1366.43| 0.928466667|     7.2|\n",
      "|1980|  19|338.57|1366.51| 0.929666667|    7.85|\n",
      "|1981|  26|339.92|1366.51| 0.929766667|    7.25|\n",
      "|1982|   4| 341.3|1366.16| 0.853066667|    7.45|\n",
      "|1983|  25|342.71|1366.18| 0.897716667|    7.52|\n",
      "+----+----+------+-------+------------+--------+\n",
      "only showing top 5 rows\n",
      "\n",
      "root\n",
      " |-- Year: integer (nullable = true)\n",
      " |-- Temp: integer (nullable = true)\n",
      " |-- CO2: double (nullable = true)\n",
      " |-- Solar: double (nullable = true)\n",
      " |-- Transmission: double (nullable = true)\n",
      " |-- IceShelf: double (nullable = true)\n",
      "\n",
      "No of rows and columns in trans_df:(32,6)\n"
     ]
    }
   ],
   "source": [
    "# your code here\n",
    "# your code here\n",
    "global_warm_df = spark.read.option(\"header\",\"true\").option(\"delimiter\",\"\\t\").option(\"inferSchema\",\"true\").csv(\"globalWarm.txt\")\n",
    "\n",
    "#Printing the first 5 rows of trans_df\n",
    "global_warm_df.show(5)\n",
    "global_warm_df.printSchema()\n",
    "\n",
    "#Printing the shape of trans_df (num_rows, num_cols)\n",
    "print(f\"No of rows and columns in trans_df:({global_warm_df.count()},{len(global_warm_df.columns)})\")"
   ]
  },
  {
   "cell_type": "markdown",
   "metadata": {},
   "source": [
    "##### Grading Feedback Cell"
   ]
  },
  {
   "cell_type": "markdown",
   "metadata": {},
   "source": [
    "## Question 8 Global Warming Data Exploration (5 pts)\n",
    "- Create a temperature vs. year scatter plot from global_warm_df\n",
    "- You may use packages outside of spark for this question"
   ]
  },
  {
   "cell_type": "code",
   "execution_count": 18,
   "metadata": {},
   "outputs": [
    {
     "data": {
      "image/png": "[encoded data removed]",
      "text/plain": [
       "<Figure size 432x288 with 1 Axes>"
      ]
     },
     "metadata": {
      "needs_background": "light"
     },
     "output_type": "display_data"
    }
   ],
   "source": [
    "# Convert to Pandas DataFrame  \n",
    "global_warm_df.select('Year','Temp').toPandas().plot(x='Year',y='Temp',kind='scatter',s=250,alpha=0.7,marker=\".\",color=\"red\");\n",
    "plt.title(\"Temprature vs. Year Scatter Plot\")\n",
    "plt.show()"
   ]
  },
  {
   "cell_type": "markdown",
   "metadata": {},
   "source": [
    "##### Grading Feedback Cell"
   ]
  },
  {
   "cell_type": "markdown",
   "metadata": {},
   "source": [
    "## Question 9 Global Warming Data Exploration (10 pts)\n"
   ]
  },
  {
   "cell_type": "markdown",
   "metadata": {},
   "source": [
    "### Question 9a (5 pts)\n",
    "- Using global_warm_df, create a pair plot of the following variables in a grid:  Temp, CO<sub>2</sub>, Solar, Transmission, and IceShelf.\n",
    "- You may use packages outside of spark for this question"
   ]
  },
  {
   "cell_type": "code",
   "execution_count": 19,
   "metadata": {},
   "outputs": [
    {
     "data": {
      "image/png": "[encoded data removed]",
      "text/plain": [
       "<Figure size 1080x1080 with 30 Axes>"
      ]
     },
     "metadata": {
      "needs_background": "light"
     },
     "output_type": "display_data"
    }
   ],
   "source": [
    "import seaborn as sns\n",
    "import matplotlib.pyplot as plt\n",
    "x=sns.pairplot(global_warm_df.toPandas(),\n",
    "            vars = ['Temp','CO2','Solar','Transmission','IceShelf'],\n",
    "                 kind = \"scatter\",palette = \"gist_heat\",height=3,plot_kws=dict(s=80, edgecolor=\"black\", linewidth=0.9));\n",
    "                  \n",
    "x.fig.suptitle('Pair Plot of Temp, CO2, Solar, Transmission, and IceShelf',size=30,y=1.05)\n",
    "plt.show()"
   ]
  },
  {
   "cell_type": "markdown",
   "metadata": {},
   "source": [
    "##### Grading Feedback Cell"
   ]
  },
  {
   "cell_type": "markdown",
   "metadata": {},
   "source": [
    "### Question 9b (5 pts)\n",
    "- Compute a correlation matrix between Temp, CO<sub>2</sub>, Solar, Transmission, and IceShelf using spark.\n",
    "- Print a labeled correlation matrix."
   ]
  },
  {
   "cell_type": "code",
   "execution_count": 20,
   "metadata": {},
   "outputs": [
    {
     "data": {
      "text/html": [
       "<style  type=\"text/css\" >\n",
       "    #T_d7dfb856_6e2f_11ea_aea1_f45c89c91a29row0_col0 {\n",
       "            background-color:  #084081;\n",
       "            color:  #f1f1f1;\n",
       "        }    #T_d7dfb856_6e2f_11ea_aea1_f45c89c91a29row0_col1 {\n",
       "            background-color:  #08589b;\n",
       "            color:  #f1f1f1;\n",
       "        }    #T_d7dfb856_6e2f_11ea_aea1_f45c89c91a29row0_col2 {\n",
       "            background-color:  #dff3da;\n",
       "            color:  #000000;\n",
       "        }    #T_d7dfb856_6e2f_11ea_aea1_f45c89c91a29row0_col3 {\n",
       "            background-color:  #62becc;\n",
       "            color:  #000000;\n",
       "        }    #T_d7dfb856_6e2f_11ea_aea1_f45c89c91a29row0_col4 {\n",
       "            background-color:  #eef8e7;\n",
       "            color:  #000000;\n",
       "        }    #T_d7dfb856_6e2f_11ea_aea1_f45c89c91a29row1_col0 {\n",
       "            background-color:  #08599c;\n",
       "            color:  #f1f1f1;\n",
       "        }    #T_d7dfb856_6e2f_11ea_aea1_f45c89c91a29row1_col1 {\n",
       "            background-color:  #084081;\n",
       "            color:  #f1f1f1;\n",
       "        }    #T_d7dfb856_6e2f_11ea_aea1_f45c89c91a29row1_col2 {\n",
       "            background-color:  #f7fcf0;\n",
       "            color:  #000000;\n",
       "        }    #T_d7dfb856_6e2f_11ea_aea1_f45c89c91a29row1_col3 {\n",
       "            background-color:  #81cec2;\n",
       "            color:  #000000;\n",
       "        }    #T_d7dfb856_6e2f_11ea_aea1_f45c89c91a29row1_col4 {\n",
       "            background-color:  #f7fcf0;\n",
       "            color:  #000000;\n",
       "        }    #T_d7dfb856_6e2f_11ea_aea1_f45c89c91a29row2_col0 {\n",
       "            background-color:  #cfecc8;\n",
       "            color:  #000000;\n",
       "        }    #T_d7dfb856_6e2f_11ea_aea1_f45c89c91a29row2_col1 {\n",
       "            background-color:  #daf0d4;\n",
       "            color:  #000000;\n",
       "        }    #T_d7dfb856_6e2f_11ea_aea1_f45c89c91a29row2_col2 {\n",
       "            background-color:  #084081;\n",
       "            color:  #f1f1f1;\n",
       "        }    #T_d7dfb856_6e2f_11ea_aea1_f45c89c91a29row2_col3 {\n",
       "            background-color:  #eaf7e4;\n",
       "            color:  #000000;\n",
       "        }    #T_d7dfb856_6e2f_11ea_aea1_f45c89c91a29row2_col4 {\n",
       "            background-color:  #3597c4;\n",
       "            color:  #000000;\n",
       "        }    #T_d7dfb856_6e2f_11ea_aea1_f45c89c91a29row3_col0 {\n",
       "            background-color:  #3fa2ca;\n",
       "            color:  #000000;\n",
       "        }    #T_d7dfb856_6e2f_11ea_aea1_f45c89c91a29row3_col1 {\n",
       "            background-color:  #4bb0d1;\n",
       "            color:  #000000;\n",
       "        }    #T_d7dfb856_6e2f_11ea_aea1_f45c89c91a29row3_col2 {\n",
       "            background-color:  #d1edcb;\n",
       "            color:  #000000;\n",
       "        }    #T_d7dfb856_6e2f_11ea_aea1_f45c89c91a29row3_col3 {\n",
       "            background-color:  #084081;\n",
       "            color:  #f1f1f1;\n",
       "        }    #T_d7dfb856_6e2f_11ea_aea1_f45c89c91a29row3_col4 {\n",
       "            background-color:  #bfe6bf;\n",
       "            color:  #000000;\n",
       "        }    #T_d7dfb856_6e2f_11ea_aea1_f45c89c91a29row4_col0 {\n",
       "            background-color:  #f7fcf0;\n",
       "            color:  #000000;\n",
       "        }    #T_d7dfb856_6e2f_11ea_aea1_f45c89c91a29row4_col1 {\n",
       "            background-color:  #f7fcf0;\n",
       "            color:  #000000;\n",
       "        }    #T_d7dfb856_6e2f_11ea_aea1_f45c89c91a29row4_col2 {\n",
       "            background-color:  #45a8cd;\n",
       "            color:  #000000;\n",
       "        }    #T_d7dfb856_6e2f_11ea_aea1_f45c89c91a29row4_col3 {\n",
       "            background-color:  #f7fcf0;\n",
       "            color:  #000000;\n",
       "        }    #T_d7dfb856_6e2f_11ea_aea1_f45c89c91a29row4_col4 {\n",
       "            background-color:  #084081;\n",
       "            color:  #f1f1f1;\n",
       "        }</style><table id=\"T_d7dfb856_6e2f_11ea_aea1_f45c89c91a29\" ><caption>Correlation Matrix:</caption><thead>    <tr>        <th class=\"blank level0\" ></th>        <th class=\"col_heading level0 col0\" >Temp</th>        <th class=\"col_heading level0 col1\" >CO2</th>        <th class=\"col_heading level0 col2\" >Solar</th>        <th class=\"col_heading level0 col3\" >Transmission</th>        <th class=\"col_heading level0 col4\" >IceShelf</th>    </tr></thead><tbody>\n",
       "                <tr>\n",
       "                        <th id=\"T_d7dfb856_6e2f_11ea_aea1_f45c89c91a29level0_row0\" class=\"row_heading level0 row0\" >Temp</th>\n",
       "                        <td id=\"T_d7dfb856_6e2f_11ea_aea1_f45c89c91a29row0_col0\" class=\"data row0 col0\" >1.000000</td>\n",
       "                        <td id=\"T_d7dfb856_6e2f_11ea_aea1_f45c89c91a29row0_col1\" class=\"data row0 col1\" >0.860927</td>\n",
       "                        <td id=\"T_d7dfb856_6e2f_11ea_aea1_f45c89c91a29row0_col2\" class=\"data row0 col2\" >-0.340342</td>\n",
       "                        <td id=\"T_d7dfb856_6e2f_11ea_aea1_f45c89c91a29row0_col3\" class=\"data row0 col3\" >0.435394</td>\n",
       "                        <td id=\"T_d7dfb856_6e2f_11ea_aea1_f45c89c91a29row0_col4\" class=\"data row0 col4\" >-0.747425</td>\n",
       "            </tr>\n",
       "            <tr>\n",
       "                        <th id=\"T_d7dfb856_6e2f_11ea_aea1_f45c89c91a29level0_row1\" class=\"row_heading level0 row1\" >CO2</th>\n",
       "                        <td id=\"T_d7dfb856_6e2f_11ea_aea1_f45c89c91a29row1_col0\" class=\"data row1 col0\" >0.860927</td>\n",
       "                        <td id=\"T_d7dfb856_6e2f_11ea_aea1_f45c89c91a29row1_col1\" class=\"data row1 col1\" >1.000000</td>\n",
       "                        <td id=\"T_d7dfb856_6e2f_11ea_aea1_f45c89c91a29row1_col2\" class=\"data row1 col2\" >-0.542822</td>\n",
       "                        <td id=\"T_d7dfb856_6e2f_11ea_aea1_f45c89c91a29row1_col3\" class=\"data row1 col3\" >0.328228</td>\n",
       "                        <td id=\"T_d7dfb856_6e2f_11ea_aea1_f45c89c91a29row1_col4\" class=\"data row1 col4\" >-0.846961</td>\n",
       "            </tr>\n",
       "            <tr>\n",
       "                        <th id=\"T_d7dfb856_6e2f_11ea_aea1_f45c89c91a29level0_row2\" class=\"row_heading level0 row2\" >Solar</th>\n",
       "                        <td id=\"T_d7dfb856_6e2f_11ea_aea1_f45c89c91a29row2_col0\" class=\"data row2 col0\" >-0.340342</td>\n",
       "                        <td id=\"T_d7dfb856_6e2f_11ea_aea1_f45c89c91a29row2_col1\" class=\"data row2 col1\" >-0.542822</td>\n",
       "                        <td id=\"T_d7dfb856_6e2f_11ea_aea1_f45c89c91a29row2_col2\" class=\"data row2 col2\" >1.000000</td>\n",
       "                        <td id=\"T_d7dfb856_6e2f_11ea_aea1_f45c89c91a29row2_col3\" class=\"data row2 col3\" >-0.205848</td>\n",
       "                        <td id=\"T_d7dfb856_6e2f_11ea_aea1_f45c89c91a29row2_col4\" class=\"data row2 col4\" >0.470690</td>\n",
       "            </tr>\n",
       "            <tr>\n",
       "                        <th id=\"T_d7dfb856_6e2f_11ea_aea1_f45c89c91a29level0_row3\" class=\"row_heading level0 row3\" >Transmission</th>\n",
       "                        <td id=\"T_d7dfb856_6e2f_11ea_aea1_f45c89c91a29row3_col0\" class=\"data row3 col0\" >0.435394</td>\n",
       "                        <td id=\"T_d7dfb856_6e2f_11ea_aea1_f45c89c91a29row3_col1\" class=\"data row3 col1\" >0.328228</td>\n",
       "                        <td id=\"T_d7dfb856_6e2f_11ea_aea1_f45c89c91a29row3_col2\" class=\"data row3 col2\" >-0.205848</td>\n",
       "                        <td id=\"T_d7dfb856_6e2f_11ea_aea1_f45c89c91a29row3_col3\" class=\"data row3 col3\" >1.000000</td>\n",
       "                        <td id=\"T_d7dfb856_6e2f_11ea_aea1_f45c89c91a29row3_col4\" class=\"data row3 col4\" >-0.302484</td>\n",
       "            </tr>\n",
       "            <tr>\n",
       "                        <th id=\"T_d7dfb856_6e2f_11ea_aea1_f45c89c91a29level0_row4\" class=\"row_heading level0 row4\" >IceShelf</th>\n",
       "                        <td id=\"T_d7dfb856_6e2f_11ea_aea1_f45c89c91a29row4_col0\" class=\"data row4 col0\" >-0.747425</td>\n",
       "                        <td id=\"T_d7dfb856_6e2f_11ea_aea1_f45c89c91a29row4_col1\" class=\"data row4 col1\" >-0.846961</td>\n",
       "                        <td id=\"T_d7dfb856_6e2f_11ea_aea1_f45c89c91a29row4_col2\" class=\"data row4 col2\" >0.470690</td>\n",
       "                        <td id=\"T_d7dfb856_6e2f_11ea_aea1_f45c89c91a29row4_col3\" class=\"data row4 col3\" >-0.302484</td>\n",
       "                        <td id=\"T_d7dfb856_6e2f_11ea_aea1_f45c89c91a29row4_col4\" class=\"data row4 col4\" >1.000000</td>\n",
       "            </tr>\n",
       "    </tbody></table>"
      ],
      "text/plain": [
       "<pandas.io.formats.style.Styler at 0x116d264e0>"
      ]
     },
     "execution_count": 20,
     "metadata": {},
     "output_type": "execute_result"
    }
   ],
   "source": [
    "from pyspark.ml.stat import Correlation\n",
    "from pyspark.ml.feature import VectorAssembler\n",
    "\n",
    "global_warm_df_wo_year=global_warm_df.drop(global_warm_df.Year)\n",
    "# convert to vector column first\n",
    "vector_col = \"corr_features\"\n",
    "assembler = VectorAssembler(inputCols=global_warm_df_wo_year.columns, outputCol=vector_col)\n",
    "df_vector = assembler.transform(global_warm_df_wo_year).select(vector_col)\n",
    "\n",
    "# get correlation matrix\n",
    "matrix = Correlation.corr(df_vector, vector_col)\n",
    "\n",
    "#Print a labeled correlation matrix.\n",
    "from matplotlib import pyplot as plt\n",
    "\n",
    "result = matrix.collect()[0][\"pearson({})\".format(vector_col)].values\n",
    "x=pd.DataFrame(result.reshape(-1, len(global_warm_df_wo_year.columns)), columns=global_warm_df_wo_year.columns, index=global_warm_df_wo_year.columns)\n",
    "x.style.background_gradient(cmap='GnBu')\\\n",
    ".set_caption(\"Correlation Matrix:\")\n"
   ]
  },
  {
   "cell_type": "markdown",
   "metadata": {},
   "source": [
    "##### Grading Feedback Cell"
   ]
  },
  {
   "cell_type": "markdown",
   "metadata": {},
   "source": [
    "## Question 10 Fit Linear Regression Pipelines (10 pts)"
   ]
  },
  {
   "cell_type": "markdown",
   "metadata": {},
   "source": [
    "### Question 10a (2 pts)\n",
    "Split global_warm_df into train and test splits with a 60:40 ratio.  Name the resulting data frames gw_train and gw_test.  Print the shape of of the train and test data frames.   "
   ]
  },
  {
   "cell_type": "code",
   "execution_count": 21,
   "metadata": {},
   "outputs": [
    {
     "name": "stdout",
     "output_type": "stream",
     "text": [
      "No of rows and columns in gw_train:(18,6)\n",
      "+----+----+------+-------+------------+--------+\n",
      "|Year|Temp|   CO2|  Solar|Transmission|IceShelf|\n",
      "+----+----+------+-------+------------+--------+\n",
      "|1979|   8|336.67|1366.43| 0.928466667|     7.2|\n",
      "+----+----+------+-------+------------+--------+\n",
      "only showing top 1 row\n",
      "\n",
      "No of rows and columns in gw_test:(14,6)\n",
      "+----+----+------+-------+------------+--------+\n",
      "|Year|Temp|   CO2|  Solar|Transmission|IceShelf|\n",
      "+----+----+------+-------+------------+--------+\n",
      "|1981|  26|339.92|1366.51| 0.929766667|    7.25|\n",
      "+----+----+------+-------+------------+--------+\n",
      "only showing top 1 row\n",
      "\n"
     ]
    }
   ],
   "source": [
    "# your code here\n",
    "gw_train,gw_test = global_warm_df.randomSplit([0.6, 0.4],seed=3124)\n",
    "print(f\"No of rows and columns in gw_train:({gw_train.count()},{len(gw_train.columns)})\")\n",
    "gw_train.show(1)\n",
    "print(f\"No of rows and columns in gw_test:({gw_test.count()},{len(gw_test.columns)})\")\n",
    "gw_test.show(1)"
   ]
  },
  {
   "cell_type": "markdown",
   "metadata": {},
   "source": [
    "##### Grading Feedback Cell"
   ]
  },
  {
   "cell_type": "markdown",
   "metadata": {},
   "source": [
    "### Question 10b (6 pts)\n",
    "- Create a spark pipeline named global_warm_pipe to perform linear regression.\n",
    "- Use the global_warm_df data frame\n",
    "- Fit a pipeline on the temp column as the target and CO2 as the feature.  Name the resulting fitted pipeline fitted_global_warm_pipe.\n",
    "- Fit another pipeline on the temp column as the target and all other columns except year as the features.  Name the resulting fitted pipeline fitted_global_warm_pipe_2."
   ]
  },
  {
   "cell_type": "code",
   "execution_count": 22,
   "metadata": {},
   "outputs": [],
   "source": [
    "# your code here\n",
    "global_warm_pipe = Pipeline(stages=[feature.VectorAssembler(inputCols=['features'],outputCol='_features'),\n",
    "                                    regression.LinearRegression(labelCol='_features', featuresCol='features')])\n",
    "\n",
    "\n",
    "\n",
    "\n",
    "\n",
    "fitted_global_warm_pipe = Pipeline(stages=[feature.VectorAssembler(inputCols=['CO2'],outputCol='features'),\n",
    "                                     regression.LinearRegression(labelCol='Temp', featuresCol='features')]).fit(gw_train)\n",
    "\n",
    "\n",
    "fitted_global_warm_pipe_2 = Pipeline(stages=[feature.VectorAssembler(inputCols=['CO2','Solar','Transmission','IceShelf'],outputCol ='features'),\n",
    "                                         regression.LinearRegression(labelCol='Temp', featuresCol='features')]).fit(gw_train)\n"
   ]
  },
  {
   "cell_type": "markdown",
   "metadata": {},
   "source": [
    "##### Grading Feedback Cell"
   ]
  },
  {
   "cell_type": "markdown",
   "metadata": {},
   "source": [
    "### Question 10c (2 pts)\n",
    "- Print the linear regression coefficient(s) in the linear regression object in each fitted model\n",
    "- Print the linear regression Y intercept in the linear regression object in each fitted model"
   ]
  },
  {
   "cell_type": "code",
   "execution_count": 23,
   "metadata": {},
   "outputs": [
    {
     "name": "stdout",
     "output_type": "stream",
     "text": [
      "1. For fitted_global_warm_pipe:\n",
      "\n",
      "The linear regression coefficient in the linear regression object is:\t \n",
      "[1.1648028839352298]\n",
      "The linear regression Y intercept in the linear regression object is:\t \n",
      "-387.9592557134493\n",
      "\n",
      "2. For fitted_global_warm_pipe_2:\n",
      "\n",
      "The linear regression coefficient in the linear regression object is:\t \n",
      "[1.0439292775046256,7.413572883670887,147.84569129655313,-3.2103251087357108]\n",
      "The linear regression Y intercept in the linear regression object is:\t \n",
      "-10585.251010387554\n"
     ]
    }
   ],
   "source": [
    "print(\"1. For fitted_global_warm_pipe:\\n\") \n",
    "coefficient = fitted_global_warm_pipe.stages[1].coefficients\n",
    "print(f\"The linear regression coefficient in the linear regression object is:\\t \\n{coefficient}\")\n",
    "intercept = fitted_global_warm_pipe.stages[1].intercept\n",
    "print(f\"The linear regression Y intercept in the linear regression object is:\\t \\n{intercept}\\n\")\n",
    "\n",
    "\n",
    "print(\"2. For fitted_global_warm_pipe_2:\\n\")\n",
    "coefficient = fitted_global_warm_pipe_2.stages[1].coefficients\n",
    "print(f\"The linear regression coefficient in the linear regression object is:\\t \\n{coefficient}\")\n",
    "intercept = fitted_global_warm_pipe_2.stages[1].intercept\n",
    "print(f\"The linear regression Y intercept in the linear regression object is:\\t \\n{intercept}\")\n",
    "\n",
    "\n",
    "\n"
   ]
  },
  {
   "cell_type": "markdown",
   "metadata": {},
   "source": [
    "##### Grading Feedback Cell"
   ]
  },
  {
   "cell_type": "markdown",
   "metadata": {},
   "source": [
    "### Question 11 Test the linear regression pipeline (10 pts)"
   ]
  },
  {
   "cell_type": "markdown",
   "metadata": {},
   "source": [
    "### Question 11a (5 pts)\n",
    "- Compute mean squared error (MSE) using the transform method on each fitted model.\n",
    "- Print the resulting MSEs."
   ]
  },
  {
   "cell_type": "code",
   "execution_count": 24,
   "metadata": {},
   "outputs": [
    {
     "name": "stdout",
     "output_type": "stream",
     "text": [
      "The MSE for fitted_global_warm_pipe is:\n",
      "+------------------+\n",
      "|              mse3|\n",
      "+------------------+\n",
      "|103.23909089471228|\n",
      "+------------------+\n",
      "\n",
      "The MSE for fitted_global_warm_pipe_2 is:\n",
      "+-----------------+\n",
      "|             mse4|\n",
      "+-----------------+\n",
      "|91.02713441248662|\n",
      "+-----------------+\n",
      "\n"
     ]
    }
   ],
   "source": [
    "# your code here\n",
    "mse3 = fn.mean((fn.col('Temp') - fn.col('prediction'))**2).alias('mse3')\n",
    "mse4 = fn.mean((fn.col('Temp') - fn.col('prediction'))**2).alias('mse4')\n",
    "\n",
    "\n",
    "print(f\"The MSE for fitted_global_warm_pipe is:\")\n",
    "fitted_global_warm_pipe.transform(gw_test).select(mse3).show()\n",
    "\n",
    "print(f\"The MSE for fitted_global_warm_pipe_2 is:\")\n",
    "fitted_global_warm_pipe_2.transform(gw_test).select(mse4).show()"
   ]
  },
  {
   "cell_type": "markdown",
   "metadata": {},
   "source": [
    "##### Grading Feedback Cell"
   ]
  },
  {
   "cell_type": "markdown",
   "metadata": {},
   "source": [
    "### Question 11b (5 pts)\n",
    "- Which of the 2 models have higher performance.  In the cell below, describe why you think the better performing model made the model perform better."
   ]
  },
  {
   "cell_type": "markdown",
   "metadata": {},
   "source": [
    "Mean Squared Error (mse4) is lower of the model that includes all the features . \n",
    "The fit of the model is improving due to increasing the number of features which is reducing the bias as well.Therefore, predicted values are closer to the actual values. "
   ]
  },
  {
   "cell_type": "markdown",
   "metadata": {},
   "source": [
    "### Question 12 Inference (10 pts)"
   ]
  },
  {
   "cell_type": "markdown",
   "metadata": {},
   "source": [
    "### Question 12a Data Scaling (5 pts)\n",
    "Add data scaling to fitted_global_warm_pipe_2 above. Name the resulting fitted model fitted_global_warm_pipe_3.  Print the resulting fitted model coefficients such that each coefficient is clearly labeled with it's corresponding feature name."
   ]
  },
  {
   "cell_type": "code",
   "execution_count": 25,
   "metadata": {},
   "outputs": [
    {
     "name": "stdout",
     "output_type": "stream",
     "text": [
      "Intercept of the model is:  32.33333333333247\n",
      "Coefficient of CO2 is:  15.420654847355056\n",
      "Coefficient of Solar is:  3.189633221811795\n",
      "Coefficient of Transmission is:  3.5660235114455663\n",
      "Coefficient of IceShelf is:  -2.994619107667793\n"
     ]
    }
   ],
   "source": [
    "# your code here\n",
    "va_pipe2 = feature.VectorAssembler(inputCols=['CO2','Solar','Transmission','IceShelf'], outputCol='features_all')\n",
    "\n",
    "scaler = StandardScaler(inputCol = 'features_all', outputCol=\"scaledFeatures\",withStd=True, withMean=True)\n",
    "lr_global_warm_all_scaled = regression.LinearRegression(featuresCol='scaledFeatures', labelCol='Temp')\n",
    "global_warm_pipe_all_std = Pipeline(stages=[va_pipe2,scaler, lr_global_warm_all_scaled])\n",
    "fitted_global_warm_pipe_3 = global_warm_pipe_all_std.fit(gw_train)\n",
    "print(\"Intercept of the model is: \",fitted_global_warm_pipe_3.stages[2].intercept)\n",
    "print(\"Coefficient of CO2 is: \",fitted_global_warm_pipe_3.stages[2].coefficients[0])\n",
    "print(\"Coefficient of Solar is: \",fitted_global_warm_pipe_3.stages[2].coefficients[1])\n",
    "print(\"Coefficient of Transmission is: \",fitted_global_warm_pipe_3.stages[2].coefficients[2])\n",
    "print(\"Coefficient of IceShelf is: \",fitted_global_warm_pipe_3.stages[2].coefficients[3])"
   ]
  },
  {
   "cell_type": "markdown",
   "metadata": {},
   "source": [
    "### Question 12b Inference (5 pts)  \n",
    "Use the coefficients printed above to gain insights into the global warming problem. Describe your inference conclusions in the cell below."
   ]
  },
  {
   "cell_type": "markdown",
   "metadata": {},
   "source": [
    "Coefficient inference conclusions here:\n",
    "As observed, When there will be an increase in these positive coefficients (CO2,Solar,Transmission), there will be an increase in Temperature while an increase in Ice Shelf will result in a Temperature drop.\n",
    "1. When all the variables are 0, the temperature is going to be equal to the 32.3333.\n",
    "2. When IceShelf increases by 1 standard deviation the temperature is going to decrease by 2.9946 units\n",
    "3. With every 1 standard deviation increase in Transmission, keeping all the other variables constant will result in 3.5660 units increase in temperature."
   ]
  },
  {
   "cell_type": "markdown",
   "metadata": {},
   "source": [
    "##### Grading Feedback Cell"
   ]
  },
  {
   "cell_type": "markdown",
   "metadata": {},
   "source": [
    "# Question 13 Extra Credit (10 pts)\n",
    "This question is optional.  No points will be deducted from your score if you do not attempt this problem.<br>\n",
    "\n",
    "Starting with the rdd class presented in lecture (maintaining all class method names), implement a my_reduce method in the rdd class.  Your implementation shall maintain rdd class immutability.  Your my_reduce method return type should be consistent with the return type in the real Spark reduce method. Do some research and see what the Spark reduce return type would be.  <br>\n",
    "\n",
    "Implement a function named times_3 which returns its input multiplied by 3. Implement a function named is_even that returns true if it's input is even, false otherwise.  Implement a my_sum function that returns the sum of its 2 inputs.  <br>\n",
    "\n",
    "Your overall implementation should not rely on receiving specific data types as inputs.  For example, the plus operator works on more than just ints and floats."
   ]
  },
  {
   "cell_type": "code",
   "execution_count": 26,
   "metadata": {},
   "outputs": [],
   "source": [
    "# functions:\n",
    "\n",
    "def times_3(el):\n",
    "    return el*3\n",
    "    \n",
    "def is_even(el):\n",
    "    if el%2 == 0:\n",
    "        return True\n",
    "    else:\n",
    "        return False\n",
    "\n",
    "def my_sum(a,b):\n",
    "    c = (a,b)\n",
    "    return sum(c)"
   ]
  },
  {
   "cell_type": "code",
   "execution_count": 27,
   "metadata": {},
   "outputs": [],
   "source": [
    "# simple rdd class\n",
    "class rdd:\n",
    "    def __init__(self, arg_array):\n",
    "        self.local_array = arg_array\n",
    "    \n",
    "    \n",
    "    def my_map(self, fun):\n",
    "        if len(self.local_array) < 1:\n",
    "            raise Exception(\"my_map: len(local_array) < 1\")\n",
    "        \n",
    "    \n",
    "        mapped = np.empty_like(self.local_array)\n",
    "        \n",
    "        for i, el in enumerate(self.local_array):\n",
    "            \n",
    "            mapped[i] = fun(self.local_array[i])\n",
    "        return rdd(mapped)\n",
    "    \n",
    "    \n",
    "    def my_filter(self, fun):\n",
    "        # create a temporary list to store the filtered results\n",
    "        transformed = []\n",
    "\n",
    "        for el in self.local_array:\n",
    "            if fun(el):\n",
    "                transformed.append(el)\n",
    "                \n",
    "        return rdd(np.array(transformed))\n",
    "    \n",
    "    \n",
    "    def my_reduce(self,fun):\n",
    "        if len(self.local_array) < 1:\n",
    "            raise Exception(\"my_map: len(local_array) < 1\")\n",
    "        total = 0\n",
    "        for i, el in enumerate(self.local_array):\n",
    "            if(i%2 ==0):\n",
    "                total = total+fun(self.local_array[i],self.local_array[i+1])\n",
    "        return total\n",
    "            \n",
    "    \n",
    "    def collect(self):\n",
    "        return self.local_array"
   ]
  },
  {
   "cell_type": "code",
   "execution_count": 28,
   "metadata": {
    "scrolled": true
   },
   "outputs": [
    {
     "name": "stdout",
     "output_type": "stream",
     "text": [
      "<class 'numpy.int64'>\n",
      "7350\n"
     ]
    }
   ],
   "source": [
    "# Simple test code\n",
    "test_rdd = rdd(np.arange(100))\n",
    "result = test_rdd.my_map(times_3).my_filter(is_even).my_reduce(my_sum)\n",
    "print(type(result))\n",
    "print(result)\n",
    "\n",
    "# secret grading test code follows\n"
   ]
  },
  {
   "cell_type": "markdown",
   "metadata": {},
   "source": [
    "##### Grading Feedback Cell\n",
    "-5 for assumed integer in the algorithm"
   ]
  }
 ],
 "metadata": {
  "celltoolbar": "Edit Metadata",
  "kernelspec": {
   "display_name": "Python 3",
   "language": "python",
   "name": "python3"
  },
  "language_info": {
   "codemirror_mode": {
    "name": "ipython",
    "version": 3
   },
   "file_extension": ".py",
   "mimetype": "text/x-python",
   "name": "python",
   "nbconvert_exporter": "python",
   "pygments_lexer": "ipython3",
   "version": "3.7.3"
  }
 },
 "nbformat": 4,
 "nbformat_minor": 2
}
