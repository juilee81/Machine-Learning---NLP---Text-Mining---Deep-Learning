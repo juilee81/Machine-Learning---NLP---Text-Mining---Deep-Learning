{
 "cells": [
  {
   "cell_type": "markdown",
   "metadata": {},
   "source": [
    "##### Grading Feedback Cell\n",
    "94%"
   ]
  },
  {
   "cell_type": "markdown",
   "metadata": {
    "deletable": false,
    "nbgrader": {
     "checksum": "c51f80b694da894627ba37be28c86055",
     "grade": false,
     "grade_id": "cell-b038e38b5e3072a9",
     "locked": true,
     "schema_version": 1,
     "solution": false
    }
   },
   "source": [
    "# IST 718: Big Data Analytics\n",
    "\n",
    "- Professor: Willard Williamson <wewillia@syr.edu>\n",
    "- Faculty Assistant: Yash Pasar <yspasar@syr.edu>\n",
    "## General instructions:\n",
    "\n",
    "- You are welcome to discuss the problems with your classmates but __you are not allowed to copy any part of your answers from your classmates.  Short code snippets are allowed from the internet.  Code from the class text books or class provided code can be copied in its entirety.__\n",
    "- There could be tests in some cells (i.e., `assert` and `np.testing.` statements). These tests (if present) are used to grade your answers. **However, the professor and FAs could use __additional__ test for your answer. Think about cases where your code should run even if it passess all the tests you see.**\n",
    "- Before submitting your work, remember to check for run time errors with the following procedure:\n",
    "`Kernel`$\\rightarrow$`Restart and Run All`.  All runtime errors will result in a minimum penalty of half off.\n",
    "- Data Bricks is the official class runtime environment so you should test your code on Data Bricks before submission.  If there is a runtime problem in the grading environment, we will try your code on Data Bricks before making a final grading decision.\n",
    "- All plots shall include a title, and axis labels.\n",
    "- Grading feedback cells are there for graders to provide feedback to students.  Don't change or remove grading feedback cells.\n",
    "- Don't add or remove files from your git repo.\n",
    "- Do not change file names in your repo.  This also means don't change the title of the ipython notebook.\n",
    "- You are free to add additional code cells around the cells marked `your code here`.\n",
    "- __Only use spark, spark machine learning, spark data frames, RDD's, and map reduce to solve all problems unless instructed otherwise.__"
   ]
  },
  {
   "cell_type": "code",
   "execution_count": 8,
   "metadata": {},
   "outputs": [],
   "source": [
    "from pyspark.sql import SparkSession\n",
    "from pyspark.sql import Row\n",
    "import numpy as np\n",
    "import pandas as pd\n",
    "from pyspark.sql.functions import isnan, isnull, when, count, col\n",
    "from pyspark.sql import functions as fn\n",
    "import matplotlib.pyplot as plt\n",
    "from pyspark.mllib.stat import Statistics\n",
    "from pyspark.ml import feature\n",
    "from pyspark.ml import clustering\n",
    "# Functionality for regression\n",
    "from pyspark.ml import regression\n",
    "# Funcionality for classification\n",
    "from pyspark.ml import classification\n",
    "# Object for creating sequences of transformations\n",
    "from pyspark.ml import Pipeline\n",
    "import seaborn as sns\n",
    "from pyspark.ml.feature import StandardScaler\n",
    "from math import exp, log10, fabs, atan, log\n",
    "spark = SparkSession.builder.getOrCreate()\n",
    "sc = spark.sparkContext\n",
    "\n",
    "import requests\n",
    "from pyspark.ml.feature import StopWordsRemover\n",
    "from pyspark.ml.feature import RegexTokenizer\n",
    "from pyspark.ml.feature import CountVectorizer\n",
    "from pyspark.ml.feature import IDF"
   ]
  },
  {
   "cell_type": "markdown",
   "metadata": {},
   "source": [
    "The following cell is used to determine if the environment is databricks or personal computer and determine the correct data file path accordingly."
   ]
  },
  {
   "cell_type": "code",
   "execution_count": 9,
   "metadata": {
    "deletable": false,
    "editable": false,
    "nbgrader": {
     "checksum": "ed593a17eab4017a9129cd4ad457fc98",
     "grade": true,
     "grade_id": "cell-20fb7c865c3ddf0e",
     "locked": true,
     "points": 10,
     "schema_version": 1,
     "solution": false
    }
   },
   "outputs": [],
   "source": [
    "# Do not delete or change this cell\n",
    "\n",
    "import os\n",
    "\n",
    "# Define a function to determine if we are running on data bricks\n",
    "# Return true if running in the data bricks environment, false otherwise\n",
    "def is_databricks():\n",
    "    # get the databricks runtime version\n",
    "    db_env = os.getenv(\"DATABRICKS_RUNTIME_VERSION\")\n",
    "    \n",
    "    # if running on data bricks\n",
    "    if db_env != None:\n",
    "        return True\n",
    "    else:\n",
    "        return False\n",
    "\n",
    "# Define a function to read the data file.  The full path data file name is constructed\n",
    "# by checking runtime environment variables to determine if the runtime environment is \n",
    "# databricks, or a student's personal computer.  The full path file name is then\n",
    "# constructed based on the runtime env.\n",
    "# \n",
    "# Params\n",
    "#   data_file_name: The base name of the data file to load\n",
    "# \n",
    "# Returns the full path file name based on the runtime env\n",
    "#\n",
    "def get_training_filename(data_file_name):    \n",
    "    # if running on data bricks\n",
    "    if is_databricks():\n",
    "        # build the full path file name assuming data brick env\n",
    "        full_path_name = \"/FileStore/tables/%s\" % data_file_name\n",
    "    # else the data is assumed to be in the same dir as this notebook\n",
    "    else:\n",
    "        # Assume the student is running on their own computer and load the data\n",
    "        # file from the same dir as this notebook\n",
    "        full_path_name = data_file_name\n",
    "    \n",
    "    # return the full path file name to the caller\n",
    "    return full_path_name"
   ]
  },
  {
   "cell_type": "markdown",
   "metadata": {},
   "source": [
    "# Unsupervised learning"
   ]
  },
  {
   "cell_type": "markdown",
   "metadata": {},
   "source": [
    "The colleges_data_science_programs dataset contains information about dozens of \"data science\" programs across the US."
   ]
  },
  {
   "cell_type": "markdown",
   "metadata": {},
   "source": [
    "## Question 1: (10 pts)\n",
    "\n",
    "This dataset contains many columns that we can use to understand how these data science programs differ from one another."
   ]
  },
  {
   "cell_type": "markdown",
   "metadata": {},
   "source": [
    "## Question 1a (5 pts)\n",
    "Using get_training_filename, read the colleges_data_science_programs.csv data file into a data frame named raw_ds_programs_text_df.  Print the head of the raw_ds_programs_text_df using Pandas, and the shape using spark."
   ]
  },
  {
   "cell_type": "code",
   "execution_count": 10,
   "metadata": {},
   "outputs": [
    {
     "name": "stdout",
     "output_type": "stream",
     "text": [
      "No of rows and columns in spam_df:(222,28)\n"
     ]
    },
    {
     "data": {
      "text/html": [
       "<div>\n",
       "<style scoped>\n",
       "    .dataframe tbody tr th:only-of-type {\n",
       "        vertical-align: middle;\n",
       "    }\n",
       "\n",
       "    .dataframe tbody tr th {\n",
       "        vertical-align: top;\n",
       "    }\n",
       "\n",
       "    .dataframe thead th {\n",
       "        text-align: right;\n",
       "    }\n",
       "</style>\n",
       "<table border=\"1\" class=\"dataframe\">\n",
       "  <thead>\n",
       "    <tr style=\"text-align: right;\">\n",
       "      <th></th>\n",
       "      <th>id</th>\n",
       "      <th>name</th>\n",
       "      <th>url</th>\n",
       "      <th>program</th>\n",
       "      <th>degree</th>\n",
       "      <th>country</th>\n",
       "      <th>state</th>\n",
       "      <th>online</th>\n",
       "      <th>oncampus</th>\n",
       "      <th>department</th>\n",
       "      <th>...</th>\n",
       "      <th>cost</th>\n",
       "      <th>visualization</th>\n",
       "      <th>machine learning</th>\n",
       "      <th>business</th>\n",
       "      <th>databases</th>\n",
       "      <th>programminglanguages</th>\n",
       "      <th>capstone</th>\n",
       "      <th>mapreduce</th>\n",
       "      <th>part-time</th>\n",
       "      <th>ethics</th>\n",
       "    </tr>\n",
       "  </thead>\n",
       "  <tbody>\n",
       "    <tr>\n",
       "      <td>0</td>\n",
       "      <td>1</td>\n",
       "      <td>South Dakota State University</td>\n",
       "      <td>http://www.sdstate.edu/mathstat/grad/masters-i...</td>\n",
       "      <td>Data Science</td>\n",
       "      <td>Masters</td>\n",
       "      <td>US</td>\n",
       "      <td>SD</td>\n",
       "      <td>False</td>\n",
       "      <td>True</td>\n",
       "      <td>Mathematics and Statistics</td>\n",
       "      <td>...</td>\n",
       "      <td>None</td>\n",
       "      <td>None</td>\n",
       "      <td>None</td>\n",
       "      <td>None</td>\n",
       "      <td>None</td>\n",
       "      <td>None</td>\n",
       "      <td>None</td>\n",
       "      <td>None</td>\n",
       "      <td>None</td>\n",
       "      <td>None</td>\n",
       "    </tr>\n",
       "    <tr>\n",
       "      <td>1</td>\n",
       "      <td>2</td>\n",
       "      <td>Dakota State University</td>\n",
       "      <td>http://www.dsu.edu/msa/</td>\n",
       "      <td>Analytics</td>\n",
       "      <td>Masters</td>\n",
       "      <td>US</td>\n",
       "      <td>SD</td>\n",
       "      <td>True</td>\n",
       "      <td>True</td>\n",
       "      <td>Business and Information Systems</td>\n",
       "      <td>...</td>\n",
       "      <td>None</td>\n",
       "      <td>None</td>\n",
       "      <td>None</td>\n",
       "      <td>None</td>\n",
       "      <td>None</td>\n",
       "      <td>None</td>\n",
       "      <td>None</td>\n",
       "      <td>None</td>\n",
       "      <td>None</td>\n",
       "      <td>None</td>\n",
       "    </tr>\n",
       "    <tr>\n",
       "      <td>2</td>\n",
       "      <td>3</td>\n",
       "      <td>Lewis University</td>\n",
       "      <td>http://www.lewisu.edu/academics/data-science/i...</td>\n",
       "      <td>Data Science</td>\n",
       "      <td>Masters</td>\n",
       "      <td>US</td>\n",
       "      <td>IL</td>\n",
       "      <td>True</td>\n",
       "      <td>True</td>\n",
       "      <td>Computer Science</td>\n",
       "      <td>...</td>\n",
       "      <td>None</td>\n",
       "      <td>None</td>\n",
       "      <td>None</td>\n",
       "      <td>None</td>\n",
       "      <td>None</td>\n",
       "      <td>None</td>\n",
       "      <td>None</td>\n",
       "      <td>None</td>\n",
       "      <td>None</td>\n",
       "      <td>None</td>\n",
       "    </tr>\n",
       "    <tr>\n",
       "      <td>3</td>\n",
       "      <td>4</td>\n",
       "      <td>Saint Joseph's University</td>\n",
       "      <td>http://online.sju.edu/programs/business-intell...</td>\n",
       "      <td>Business Intelligence &amp; Analytics</td>\n",
       "      <td>Masters</td>\n",
       "      <td>US</td>\n",
       "      <td>PA</td>\n",
       "      <td>True</td>\n",
       "      <td>True</td>\n",
       "      <td>Business</td>\n",
       "      <td>...</td>\n",
       "      <td>None</td>\n",
       "      <td>None</td>\n",
       "      <td>None</td>\n",
       "      <td>None</td>\n",
       "      <td>None</td>\n",
       "      <td>None</td>\n",
       "      <td>None</td>\n",
       "      <td>None</td>\n",
       "      <td>None</td>\n",
       "      <td>None</td>\n",
       "    </tr>\n",
       "    <tr>\n",
       "      <td>4</td>\n",
       "      <td>5</td>\n",
       "      <td>University Of Leeds</td>\n",
       "      <td>http://www.engineering.leeds.ac.uk/computing/p...</td>\n",
       "      <td>Advanced Computer Science(Data Analytics)</td>\n",
       "      <td>Masters</td>\n",
       "      <td>GB</td>\n",
       "      <td>None</td>\n",
       "      <td>False</td>\n",
       "      <td>True</td>\n",
       "      <td>Computer Science</td>\n",
       "      <td>...</td>\n",
       "      <td>None</td>\n",
       "      <td>None</td>\n",
       "      <td>None</td>\n",
       "      <td>None</td>\n",
       "      <td>None</td>\n",
       "      <td>None</td>\n",
       "      <td>None</td>\n",
       "      <td>None</td>\n",
       "      <td>None</td>\n",
       "      <td>None</td>\n",
       "    </tr>\n",
       "  </tbody>\n",
       "</table>\n",
       "<p>5 rows × 28 columns</p>\n",
       "</div>"
      ],
      "text/plain": [
       "   id                           name  \\\n",
       "0   1  South Dakota State University   \n",
       "1   2        Dakota State University   \n",
       "2   3               Lewis University   \n",
       "3   4      Saint Joseph's University   \n",
       "4   5            University Of Leeds   \n",
       "\n",
       "                                                 url  \\\n",
       "0  http://www.sdstate.edu/mathstat/grad/masters-i...   \n",
       "1                            http://www.dsu.edu/msa/   \n",
       "2  http://www.lewisu.edu/academics/data-science/i...   \n",
       "3  http://online.sju.edu/programs/business-intell...   \n",
       "4  http://www.engineering.leeds.ac.uk/computing/p...   \n",
       "\n",
       "                                     program   degree country state  online  \\\n",
       "0                               Data Science  Masters      US    SD   False   \n",
       "1                                  Analytics  Masters      US    SD    True   \n",
       "2                               Data Science  Masters      US    IL    True   \n",
       "3          Business Intelligence & Analytics  Masters      US    PA    True   \n",
       "4  Advanced Computer Science(Data Analytics)  Masters      GB  None   False   \n",
       "\n",
       "   oncampus                        department  ...  cost visualization  \\\n",
       "0      True        Mathematics and Statistics  ...  None          None   \n",
       "1      True  Business and Information Systems  ...  None          None   \n",
       "2      True                  Computer Science  ...  None          None   \n",
       "3      True                          Business  ...  None          None   \n",
       "4      True                  Computer Science  ...  None          None   \n",
       "\n",
       "   machine learning business databases programminglanguages  capstone  \\\n",
       "0              None     None      None                 None      None   \n",
       "1              None     None      None                 None      None   \n",
       "2              None     None      None                 None      None   \n",
       "3              None     None      None                 None      None   \n",
       "4              None     None      None                 None      None   \n",
       "\n",
       "  mapreduce part-time ethics  \n",
       "0      None      None   None  \n",
       "1      None      None   None  \n",
       "2      None      None   None  \n",
       "3      None      None   None  \n",
       "4      None      None   None  \n",
       "\n",
       "[5 rows x 28 columns]"
      ]
     },
     "execution_count": 10,
     "metadata": {},
     "output_type": "execute_result"
    }
   ],
   "source": [
    "# Your code here\n",
    "raw_ds_programs_text_df = get_training_filename('colleges_data_science_programs.csv')\n",
    "raw_ds_programs_text_df = spark.read.csv(raw_ds_programs_text_df, header=True, inferSchema=True)\n",
    "\n",
    "\n",
    "#head and shape\n",
    "print(f\"No of rows and columns in spam_df:({raw_ds_programs_text_df.count()},{len(raw_ds_programs_text_df.columns)})\")\n",
    "raw_ds_programs_text_df.toPandas().head(5)"
   ]
  },
  {
   "cell_type": "markdown",
   "metadata": {},
   "source": [
    "##### Grading Feedback Cell"
   ]
  },
  {
   "cell_type": "markdown",
   "metadata": {},
   "source": [
    "## Question 1b (5 pts)\n",
    "Starting with `raw_ds_programs_text_df`, create a new dataframe named`ds_programs_text_df` which simply adds a column `text` to the dataframe `raw_ds_programs_df`. This column will have the concatenation of the following columns separated by a space: `program`, `degree` and `department` (find the appropriate function in the `fn` package). <br>\n",
    "\n",
    "An example of the `ds_programs_text_df` should give you:\n",
    "\n",
    "```python\n",
    "ds_programs_text_df.orderBy('id').first().text\n",
    "```\n",
    "\n",
    "```console\n",
    "'Data Science Masters Mathematics and Statistics'\n",
    "```\n",
    "<br>\n",
    "- Print the head of the raw_ds_programs_text_df using Pandas, and the shape using spark.<br>\n",
    "- Print the text column in the first row of the ds_programs_text_df."
   ]
  },
  {
   "cell_type": "code",
   "execution_count": 11,
   "metadata": {
    "deletable": false,
    "nbgrader": {
     "checksum": "cb982914cbab5d8d552cafcab8a6f41b",
     "grade": false,
     "grade_id": "cell-18ebd4f77c37a8e3",
     "locked": false,
     "schema_version": 1,
     "solution": true
    }
   },
   "outputs": [
    {
     "name": "stdout",
     "output_type": "stream",
     "text": [
      "No of rows and columns in spam_df:(222,29)\n"
     ]
    },
    {
     "data": {
      "text/html": [
       "<div>\n",
       "<style scoped>\n",
       "    .dataframe tbody tr th:only-of-type {\n",
       "        vertical-align: middle;\n",
       "    }\n",
       "\n",
       "    .dataframe tbody tr th {\n",
       "        vertical-align: top;\n",
       "    }\n",
       "\n",
       "    .dataframe thead th {\n",
       "        text-align: right;\n",
       "    }\n",
       "</style>\n",
       "<table border=\"1\" class=\"dataframe\">\n",
       "  <thead>\n",
       "    <tr style=\"text-align: right;\">\n",
       "      <th></th>\n",
       "      <th>id</th>\n",
       "      <th>name</th>\n",
       "      <th>url</th>\n",
       "      <th>program</th>\n",
       "      <th>degree</th>\n",
       "      <th>country</th>\n",
       "      <th>state</th>\n",
       "      <th>online</th>\n",
       "      <th>oncampus</th>\n",
       "      <th>department</th>\n",
       "      <th>...</th>\n",
       "      <th>visualization</th>\n",
       "      <th>machine learning</th>\n",
       "      <th>business</th>\n",
       "      <th>databases</th>\n",
       "      <th>programminglanguages</th>\n",
       "      <th>capstone</th>\n",
       "      <th>mapreduce</th>\n",
       "      <th>part-time</th>\n",
       "      <th>ethics</th>\n",
       "      <th>text</th>\n",
       "    </tr>\n",
       "  </thead>\n",
       "  <tbody>\n",
       "    <tr>\n",
       "      <td>0</td>\n",
       "      <td>1</td>\n",
       "      <td>South Dakota State University</td>\n",
       "      <td>http://www.sdstate.edu/mathstat/grad/masters-i...</td>\n",
       "      <td>Data Science</td>\n",
       "      <td>Masters</td>\n",
       "      <td>US</td>\n",
       "      <td>SD</td>\n",
       "      <td>False</td>\n",
       "      <td>True</td>\n",
       "      <td>Mathematics and Statistics</td>\n",
       "      <td>...</td>\n",
       "      <td>None</td>\n",
       "      <td>None</td>\n",
       "      <td>None</td>\n",
       "      <td>None</td>\n",
       "      <td>None</td>\n",
       "      <td>None</td>\n",
       "      <td>None</td>\n",
       "      <td>None</td>\n",
       "      <td>None</td>\n",
       "      <td>Data Science Masters Mathematics and Statistics</td>\n",
       "    </tr>\n",
       "    <tr>\n",
       "      <td>1</td>\n",
       "      <td>2</td>\n",
       "      <td>Dakota State University</td>\n",
       "      <td>http://www.dsu.edu/msa/</td>\n",
       "      <td>Analytics</td>\n",
       "      <td>Masters</td>\n",
       "      <td>US</td>\n",
       "      <td>SD</td>\n",
       "      <td>True</td>\n",
       "      <td>True</td>\n",
       "      <td>Business and Information Systems</td>\n",
       "      <td>...</td>\n",
       "      <td>None</td>\n",
       "      <td>None</td>\n",
       "      <td>None</td>\n",
       "      <td>None</td>\n",
       "      <td>None</td>\n",
       "      <td>None</td>\n",
       "      <td>None</td>\n",
       "      <td>None</td>\n",
       "      <td>None</td>\n",
       "      <td>Analytics Masters Business and Information Sys...</td>\n",
       "    </tr>\n",
       "    <tr>\n",
       "      <td>2</td>\n",
       "      <td>3</td>\n",
       "      <td>Lewis University</td>\n",
       "      <td>http://www.lewisu.edu/academics/data-science/i...</td>\n",
       "      <td>Data Science</td>\n",
       "      <td>Masters</td>\n",
       "      <td>US</td>\n",
       "      <td>IL</td>\n",
       "      <td>True</td>\n",
       "      <td>True</td>\n",
       "      <td>Computer Science</td>\n",
       "      <td>...</td>\n",
       "      <td>None</td>\n",
       "      <td>None</td>\n",
       "      <td>None</td>\n",
       "      <td>None</td>\n",
       "      <td>None</td>\n",
       "      <td>None</td>\n",
       "      <td>None</td>\n",
       "      <td>None</td>\n",
       "      <td>None</td>\n",
       "      <td>Data Science Masters Computer Science</td>\n",
       "    </tr>\n",
       "  </tbody>\n",
       "</table>\n",
       "<p>3 rows × 29 columns</p>\n",
       "</div>"
      ],
      "text/plain": [
       "   id                           name  \\\n",
       "0   1  South Dakota State University   \n",
       "1   2        Dakota State University   \n",
       "2   3               Lewis University   \n",
       "\n",
       "                                                 url       program   degree  \\\n",
       "0  http://www.sdstate.edu/mathstat/grad/masters-i...  Data Science  Masters   \n",
       "1                            http://www.dsu.edu/msa/     Analytics  Masters   \n",
       "2  http://www.lewisu.edu/academics/data-science/i...  Data Science  Masters   \n",
       "\n",
       "  country state  online  oncampus                        department  ...  \\\n",
       "0      US    SD   False      True        Mathematics and Statistics  ...   \n",
       "1      US    SD    True      True  Business and Information Systems  ...   \n",
       "2      US    IL    True      True                  Computer Science  ...   \n",
       "\n",
       "  visualization machine learning  business databases programminglanguages  \\\n",
       "0          None             None      None      None                 None   \n",
       "1          None             None      None      None                 None   \n",
       "2          None             None      None      None                 None   \n",
       "\n",
       "  capstone  mapreduce part-time ethics  \\\n",
       "0     None       None      None   None   \n",
       "1     None       None      None   None   \n",
       "2     None       None      None   None   \n",
       "\n",
       "                                                text  \n",
       "0    Data Science Masters Mathematics and Statistics  \n",
       "1  Analytics Masters Business and Information Sys...  \n",
       "2              Data Science Masters Computer Science  \n",
       "\n",
       "[3 rows x 29 columns]"
      ]
     },
     "execution_count": 11,
     "metadata": {},
     "output_type": "execute_result"
    }
   ],
   "source": [
    "# Your code here\n",
    "#ds_programs_text_df = raw_ds_programs_text_df.withColumn('text',fn.concat(fn.col('program'),fn.lit(' '), fn.col('degree'),fn.lit(' '), fn.col('department')))\n",
    "ds_programs_text_df = raw_ds_programs_text_df.withColumn(\"text\",fn.concat_ws(' ',raw_ds_programs_text_df.program,raw_ds_programs_text_df.degree,raw_ds_programs_text_df.department))\n",
    "#Printing head and shape\n",
    "print(f\"No of rows and columns in spam_df:({ds_programs_text_df.count()},{len(ds_programs_text_df.columns)})\")\n",
    "ds_programs_text_df.toPandas().head(3)\n"
   ]
  },
  {
   "cell_type": "code",
   "execution_count": 12,
   "metadata": {},
   "outputs": [
    {
     "data": {
      "text/plain": [
       "'Data Science Masters Mathematics and Statistics'"
      ]
     },
     "execution_count": 12,
     "metadata": {},
     "output_type": "execute_result"
    }
   ],
   "source": [
    "#checking the outcome\n",
    "ds_programs_text_df.orderBy('id').first().text"
   ]
  },
  {
   "cell_type": "markdown",
   "metadata": {},
   "source": [
    "##### Grading Feedback Cell"
   ]
  },
  {
   "cell_type": "markdown",
   "metadata": {},
   "source": [
    "# Question 2: (10 pts) "
   ]
  },
  {
   "cell_type": "markdown",
   "metadata": {},
   "source": [
    "## Question 2a (5 pts)\n",
    "Create a pipeline named `pipe_features` that creates a new dataframe `ds_features_df`.  The pipe_features pipeline adds a column `features` to `ds_programs_text_df` that contains the `tfidf` of the `text` column.  Print the head of ds_features_df using Pandas and print the shape using spark."
   ]
  },
  {
   "cell_type": "code",
   "execution_count": 13,
   "metadata": {},
   "outputs": [
    {
     "name": "stdout",
     "output_type": "stream",
     "text": [
      "Shape of ds_features_df is:  (222, 30)\n"
     ]
    },
    {
     "data": {
      "text/html": [
       "<div>\n",
       "<style scoped>\n",
       "    .dataframe tbody tr th:only-of-type {\n",
       "        vertical-align: middle;\n",
       "    }\n",
       "\n",
       "    .dataframe tbody tr th {\n",
       "        vertical-align: top;\n",
       "    }\n",
       "\n",
       "    .dataframe thead th {\n",
       "        text-align: right;\n",
       "    }\n",
       "</style>\n",
       "<table border=\"1\" class=\"dataframe\">\n",
       "  <thead>\n",
       "    <tr style=\"text-align: right;\">\n",
       "      <th></th>\n",
       "      <th>id</th>\n",
       "      <th>name</th>\n",
       "      <th>url</th>\n",
       "      <th>program</th>\n",
       "      <th>degree</th>\n",
       "      <th>country</th>\n",
       "      <th>state</th>\n",
       "      <th>online</th>\n",
       "      <th>oncampus</th>\n",
       "      <th>department</th>\n",
       "      <th>...</th>\n",
       "      <th>machine learning</th>\n",
       "      <th>business</th>\n",
       "      <th>databases</th>\n",
       "      <th>programminglanguages</th>\n",
       "      <th>capstone</th>\n",
       "      <th>mapreduce</th>\n",
       "      <th>part-time</th>\n",
       "      <th>ethics</th>\n",
       "      <th>text</th>\n",
       "      <th>features</th>\n",
       "    </tr>\n",
       "  </thead>\n",
       "  <tbody>\n",
       "    <tr>\n",
       "      <td>0</td>\n",
       "      <td>1</td>\n",
       "      <td>South Dakota State University</td>\n",
       "      <td>http://www.sdstate.edu/mathstat/grad/masters-i...</td>\n",
       "      <td>Data Science</td>\n",
       "      <td>Masters</td>\n",
       "      <td>US</td>\n",
       "      <td>SD</td>\n",
       "      <td>False</td>\n",
       "      <td>True</td>\n",
       "      <td>Mathematics and Statistics</td>\n",
       "      <td>...</td>\n",
       "      <td>None</td>\n",
       "      <td>None</td>\n",
       "      <td>None</td>\n",
       "      <td>None</td>\n",
       "      <td>None</td>\n",
       "      <td>None</td>\n",
       "      <td>None</td>\n",
       "      <td>None</td>\n",
       "      <td>Data Science Masters Mathematics and Statistics</td>\n",
       "      <td>(0.2538801769623398, 0.6622396430968687, 0.0, ...</td>\n",
       "    </tr>\n",
       "    <tr>\n",
       "      <td>1</td>\n",
       "      <td>2</td>\n",
       "      <td>Dakota State University</td>\n",
       "      <td>http://www.dsu.edu/msa/</td>\n",
       "      <td>Analytics</td>\n",
       "      <td>Masters</td>\n",
       "      <td>US</td>\n",
       "      <td>SD</td>\n",
       "      <td>True</td>\n",
       "      <td>True</td>\n",
       "      <td>Business and Information Systems</td>\n",
       "      <td>...</td>\n",
       "      <td>None</td>\n",
       "      <td>None</td>\n",
       "      <td>None</td>\n",
       "      <td>None</td>\n",
       "      <td>None</td>\n",
       "      <td>None</td>\n",
       "      <td>None</td>\n",
       "      <td>None</td>\n",
       "      <td>Analytics Masters Business and Information Sys...</td>\n",
       "      <td>(0.2538801769623398, 0.0, 1.0377239189930973, ...</td>\n",
       "    </tr>\n",
       "    <tr>\n",
       "      <td>2</td>\n",
       "      <td>3</td>\n",
       "      <td>Lewis University</td>\n",
       "      <td>http://www.lewisu.edu/academics/data-science/i...</td>\n",
       "      <td>Data Science</td>\n",
       "      <td>Masters</td>\n",
       "      <td>US</td>\n",
       "      <td>IL</td>\n",
       "      <td>True</td>\n",
       "      <td>True</td>\n",
       "      <td>Computer Science</td>\n",
       "      <td>...</td>\n",
       "      <td>None</td>\n",
       "      <td>None</td>\n",
       "      <td>None</td>\n",
       "      <td>None</td>\n",
       "      <td>None</td>\n",
       "      <td>None</td>\n",
       "      <td>None</td>\n",
       "      <td>None</td>\n",
       "      <td>Data Science Masters Computer Science</td>\n",
       "      <td>(0.2538801769623398, 0.6622396430968687, 0.0, ...</td>\n",
       "    </tr>\n",
       "    <tr>\n",
       "      <td>3</td>\n",
       "      <td>4</td>\n",
       "      <td>Saint Joseph's University</td>\n",
       "      <td>http://online.sju.edu/programs/business-intell...</td>\n",
       "      <td>Business Intelligence &amp; Analytics</td>\n",
       "      <td>Masters</td>\n",
       "      <td>US</td>\n",
       "      <td>PA</td>\n",
       "      <td>True</td>\n",
       "      <td>True</td>\n",
       "      <td>Business</td>\n",
       "      <td>...</td>\n",
       "      <td>None</td>\n",
       "      <td>None</td>\n",
       "      <td>None</td>\n",
       "      <td>None</td>\n",
       "      <td>None</td>\n",
       "      <td>None</td>\n",
       "      <td>None</td>\n",
       "      <td>None</td>\n",
       "      <td>Business Intelligence &amp; Analytics Masters Busi...</td>\n",
       "      <td>(0.2538801769623398, 0.0, 2.0754478379861947, ...</td>\n",
       "    </tr>\n",
       "    <tr>\n",
       "      <td>4</td>\n",
       "      <td>5</td>\n",
       "      <td>University Of Leeds</td>\n",
       "      <td>http://www.engineering.leeds.ac.uk/computing/p...</td>\n",
       "      <td>Advanced Computer Science(Data Analytics)</td>\n",
       "      <td>Masters</td>\n",
       "      <td>GB</td>\n",
       "      <td>None</td>\n",
       "      <td>False</td>\n",
       "      <td>True</td>\n",
       "      <td>Computer Science</td>\n",
       "      <td>...</td>\n",
       "      <td>None</td>\n",
       "      <td>None</td>\n",
       "      <td>None</td>\n",
       "      <td>None</td>\n",
       "      <td>None</td>\n",
       "      <td>None</td>\n",
       "      <td>None</td>\n",
       "      <td>None</td>\n",
       "      <td>Advanced Computer Science(Data Analytics) Mast...</td>\n",
       "      <td>(0.2538801769623398, 0.6622396430968687, 0.0, ...</td>\n",
       "    </tr>\n",
       "  </tbody>\n",
       "</table>\n",
       "<p>5 rows × 30 columns</p>\n",
       "</div>"
      ],
      "text/plain": [
       "   id                           name  \\\n",
       "0   1  South Dakota State University   \n",
       "1   2        Dakota State University   \n",
       "2   3               Lewis University   \n",
       "3   4      Saint Joseph's University   \n",
       "4   5            University Of Leeds   \n",
       "\n",
       "                                                 url  \\\n",
       "0  http://www.sdstate.edu/mathstat/grad/masters-i...   \n",
       "1                            http://www.dsu.edu/msa/   \n",
       "2  http://www.lewisu.edu/academics/data-science/i...   \n",
       "3  http://online.sju.edu/programs/business-intell...   \n",
       "4  http://www.engineering.leeds.ac.uk/computing/p...   \n",
       "\n",
       "                                     program   degree country state  online  \\\n",
       "0                               Data Science  Masters      US    SD   False   \n",
       "1                                  Analytics  Masters      US    SD    True   \n",
       "2                               Data Science  Masters      US    IL    True   \n",
       "3          Business Intelligence & Analytics  Masters      US    PA    True   \n",
       "4  Advanced Computer Science(Data Analytics)  Masters      GB  None   False   \n",
       "\n",
       "   oncampus                        department  ... machine learning business  \\\n",
       "0      True        Mathematics and Statistics  ...             None     None   \n",
       "1      True  Business and Information Systems  ...             None     None   \n",
       "2      True                  Computer Science  ...             None     None   \n",
       "3      True                          Business  ...             None     None   \n",
       "4      True                  Computer Science  ...             None     None   \n",
       "\n",
       "   databases programminglanguages capstone mapreduce  part-time ethics  \\\n",
       "0       None                 None     None      None       None   None   \n",
       "1       None                 None     None      None       None   None   \n",
       "2       None                 None     None      None       None   None   \n",
       "3       None                 None     None      None       None   None   \n",
       "4       None                 None     None      None       None   None   \n",
       "\n",
       "                                                text  \\\n",
       "0    Data Science Masters Mathematics and Statistics   \n",
       "1  Analytics Masters Business and Information Sys...   \n",
       "2              Data Science Masters Computer Science   \n",
       "3  Business Intelligence & Analytics Masters Busi...   \n",
       "4  Advanced Computer Science(Data Analytics) Mast...   \n",
       "\n",
       "                                            features  \n",
       "0  (0.2538801769623398, 0.6622396430968687, 0.0, ...  \n",
       "1  (0.2538801769623398, 0.0, 1.0377239189930973, ...  \n",
       "2  (0.2538801769623398, 0.6622396430968687, 0.0, ...  \n",
       "3  (0.2538801769623398, 0.0, 2.0754478379861947, ...  \n",
       "4  (0.2538801769623398, 0.6622396430968687, 0.0, ...  \n",
       "\n",
       "[5 rows x 30 columns]"
      ]
     },
     "execution_count": 13,
     "metadata": {},
     "output_type": "execute_result"
    }
   ],
   "source": [
    "# Create ds_programs_text_df here\n",
    "stop_words = requests.get('http://ir.dcs.gla.ac.uk/resources/linguistic_utils/stop_words').text.split()\n",
    "tokenizer = RegexTokenizer().setGaps(False).setPattern(\"\\\\p{L}+\").setInputCol(\"text\").setOutputCol(\"words\")\n",
    "\n",
    "remover = StopWordsRemover().setStopWords(stop_words).setCaseSensitive(False).setInputCol(\"words\").setOutputCol(\"filtered_text\")\n",
    "\n",
    "cv = CountVectorizer().setInputCol(\"filtered_text\").setOutputCol(\"tf\")\n",
    "idf = IDF().setInputCol('tf').setOutputCol('features')\n",
    "\n",
    "\n",
    "cols = ds_programs_text_df.columns[:]\n",
    "pipe_features = Pipeline(stages=[tokenizer,remover,cv,idf]).fit(ds_programs_text_df)\n",
    "ds_features_df = pipe_features.transform(ds_programs_text_df).select(*cols,'features')\n",
    "\n",
    "\n",
    "print(\"Shape of ds_features_df is: \",(ds_features_df.count(), len(ds_features_df.columns)))\n",
    "ds_features_df.toPandas().head()"
   ]
  },
  {
   "cell_type": "markdown",
   "metadata": {},
   "source": [
    "##### Grading Feedback Cell\n",
    "-3 Runtime error fixed by grader"
   ]
  },
  {
   "cell_type": "markdown",
   "metadata": {},
   "source": [
    "## Question 2b (5 pts)\n",
    "Create a pipeline model `pipe_pca` that computes the two first principal components of the `features` column as computed by `pipe_features` and creates a column named `scores`. Use that pipeline to create a dataframe `ds_features_df` with the columns `id`, `name`, `url`, and `scores`."
   ]
  },
  {
   "cell_type": "code",
   "execution_count": 14,
   "metadata": {
    "deletable": false,
    "nbgrader": {
     "checksum": "fe5246f975004002ec6318349b882137",
     "grade": false,
     "grade_id": "cell-cab09e882ef8f6d1",
     "locked": false,
     "schema_version": 1,
     "solution": true
    }
   },
   "outputs": [
    {
     "data": {
      "text/html": [
       "<div>\n",
       "<style scoped>\n",
       "    .dataframe tbody tr th:only-of-type {\n",
       "        vertical-align: middle;\n",
       "    }\n",
       "\n",
       "    .dataframe tbody tr th {\n",
       "        vertical-align: top;\n",
       "    }\n",
       "\n",
       "    .dataframe thead th {\n",
       "        text-align: right;\n",
       "    }\n",
       "</style>\n",
       "<table border=\"1\" class=\"dataframe\">\n",
       "  <thead>\n",
       "    <tr style=\"text-align: right;\">\n",
       "      <th></th>\n",
       "      <th>id</th>\n",
       "      <th>name</th>\n",
       "      <th>url</th>\n",
       "      <th>scores</th>\n",
       "    </tr>\n",
       "  </thead>\n",
       "  <tbody>\n",
       "    <tr>\n",
       "      <td>0</td>\n",
       "      <td>1</td>\n",
       "      <td>South Dakota State University</td>\n",
       "      <td>http://www.sdstate.edu/mathstat/grad/masters-i...</td>\n",
       "      <td>[-0.28936530400146304, 1.225874242754145]</td>\n",
       "    </tr>\n",
       "    <tr>\n",
       "      <td>1</td>\n",
       "      <td>2</td>\n",
       "      <td>Dakota State University</td>\n",
       "      <td>http://www.dsu.edu/msa/</td>\n",
       "      <td>[-0.3179830950693028, 0.9026154588118561]</td>\n",
       "    </tr>\n",
       "    <tr>\n",
       "      <td>2</td>\n",
       "      <td>3</td>\n",
       "      <td>Lewis University</td>\n",
       "      <td>http://www.lewisu.edu/academics/data-science/i...</td>\n",
       "      <td>[-0.019973100053756465, 0.21391827433862404]</td>\n",
       "    </tr>\n",
       "    <tr>\n",
       "      <td>3</td>\n",
       "      <td>4</td>\n",
       "      <td>Saint Joseph's University</td>\n",
       "      <td>http://online.sju.edu/programs/business-intell...</td>\n",
       "      <td>[-0.7162195133606062, -1.3984845319290018]</td>\n",
       "    </tr>\n",
       "    <tr>\n",
       "      <td>4</td>\n",
       "      <td>5</td>\n",
       "      <td>University Of Leeds</td>\n",
       "      <td>http://www.engineering.leeds.ac.uk/computing/p...</td>\n",
       "      <td>[-0.10536845675883032, 0.0665491080878871]</td>\n",
       "    </tr>\n",
       "  </tbody>\n",
       "</table>\n",
       "</div>"
      ],
      "text/plain": [
       "   id                           name  \\\n",
       "0   1  South Dakota State University   \n",
       "1   2        Dakota State University   \n",
       "2   3               Lewis University   \n",
       "3   4      Saint Joseph's University   \n",
       "4   5            University Of Leeds   \n",
       "\n",
       "                                                 url  \\\n",
       "0  http://www.sdstate.edu/mathstat/grad/masters-i...   \n",
       "1                            http://www.dsu.edu/msa/   \n",
       "2  http://www.lewisu.edu/academics/data-science/i...   \n",
       "3  http://online.sju.edu/programs/business-intell...   \n",
       "4  http://www.engineering.leeds.ac.uk/computing/p...   \n",
       "\n",
       "                                         scores  \n",
       "0     [-0.28936530400146304, 1.225874242754145]  \n",
       "1     [-0.3179830950693028, 0.9026154588118561]  \n",
       "2  [-0.019973100053756465, 0.21391827433862404]  \n",
       "3    [-0.7162195133606062, -1.3984845319290018]  \n",
       "4    [-0.10536845675883032, 0.0665491080878871]  "
      ]
     },
     "execution_count": 14,
     "metadata": {},
     "output_type": "execute_result"
    }
   ],
   "source": [
    "# create ds_features_df here\n",
    "pipe_pca = Pipeline(stages=[feature.StandardScaler(withMean=True,withStd = False,inputCol='features', outputCol='f'),\n",
    "                            feature.PCA(k=2, inputCol='f', outputCol='scores')]).fit(ds_features_df)\n",
    "\n",
    "ds_features_df2 = pipe_pca.transform(ds_features_df).select('id','name','url','scores')\n",
    "ds_features_df2.toPandas().head(5)"
   ]
  },
  {
   "cell_type": "markdown",
   "metadata": {},
   "source": [
    "##### Grading Feedback Cell"
   ]
  },
  {
   "cell_type": "markdown",
   "metadata": {},
   "source": [
    "# Question 3: (10 pts)\n",
    "\n",
    "Create a scatter plot with the x axis containing the first principal component (loading) and the y axis containing the second principal component (loading) of `ds_features_df`"
   ]
  },
  {
   "cell_type": "code",
   "execution_count": 15,
   "metadata": {
    "deletable": false,
    "nbgrader": {
     "checksum": "25f8bfc0359ff722d557a39233e1bfe2",
     "grade": true,
     "grade_id": "cell-cfe761874325794d",
     "locked": false,
     "points": 10,
     "schema_version": 1,
     "solution": true
    },
    "scrolled": false
   },
   "outputs": [
    {
     "data": {
      "image/png": "[encoded data removed]",
      "text/plain": [
       "<Figure size 360x360 with 1 Axes>"
      ]
     },
     "metadata": {
      "needs_background": "light"
     },
     "output_type": "display_data"
    }
   ],
   "source": [
    "# Your code here\n",
    "loadings = pipe_pca.stages[-1].pc.toArray()\n",
    "c_loading_1 = loadings[:,0]\n",
    "c_loading_2 = loadings[:,1]\n",
    "\n",
    "plt.figure(figsize=(5,5))\n",
    "plt.scatter(c_loading_1,c_loading_2,color='green')\n",
    "\n",
    "plt.xlabel('First Principal Component Loading')\n",
    "plt.ylabel('Second Principal Component Loading')\n",
    "plt.title('Principal Component Loading')\n",
    "plt.show()"
   ]
  },
  {
   "cell_type": "markdown",
   "metadata": {},
   "source": [
    "##### Grading Feedback Cell"
   ]
  },
  {
   "cell_type": "markdown",
   "metadata": {},
   "source": [
    "# Question 4 (10 pts)\n",
    "\n",
    "Create two Pandas dataframes `pc1_pd` and `pc2_pd` with the columns `word` and `abs_loading` that contain the top 5 words and absolute loadings for the principal components 1 and 2, respetively.  Print both dataframes. Interpret the loadings."
   ]
  },
  {
   "cell_type": "code",
   "execution_count": 16,
   "metadata": {
    "deletable": false,
    "nbgrader": {
     "checksum": "21ba70a5a4393b6c5f5d5ce14bca6f26",
     "grade": false,
     "grade_id": "cell-f9d1641edcc927e5",
     "locked": false,
     "schema_version": 1,
     "solution": true
    }
   },
   "outputs": [
    {
     "name": "stdout",
     "output_type": "stream",
     "text": [
      "             word  abs_loading\n",
      "18  computational     0.582605\n",
      "14       sciences     0.499972\n",
      "35      astronomy     0.309639\n",
      "36        physics     0.309639\n",
      "22         school     0.285775\n",
      "           word  abs_loading\n",
      "7   information     0.472225\n",
      "21    computing     0.407430\n",
      "6    statistics     0.325734\n",
      "2      business     0.324424\n",
      "15    doctorate     0.224299\n"
     ]
    }
   ],
   "source": [
    "# your code here (5 pts)\n",
    "\n",
    "vocab = list(pipe_features.stages[2].vocabulary)\n",
    "c_loading_1 = abs(c_loading_1)\n",
    "c_loading_2 = abs(c_loading_2)\n",
    "\n",
    "pc1 = {'word':vocab,'abs_loading':c_loading_1}\n",
    "pc1_pd = pd.DataFrame(pc1)\n",
    "pc1_pd = pc1_pd.sort_values('abs_loading',ascending = False).head(5)\n",
    "\n",
    "pc2 = {'word':vocab,'abs_loading':c_loading_2}\n",
    "pc2_pd = pd.DataFrame(pc2)\n",
    "pc2_pd = pc2_pd.sort_values('abs_loading',ascending = False).head(5)\n",
    "\n",
    "print(pc1_pd)\n",
    "print(pc2_pd)"
   ]
  },
  {
   "cell_type": "markdown",
   "metadata": {},
   "source": [
    "##### Grading Feedback Cell"
   ]
  },
  {
   "cell_type": "markdown",
   "metadata": {},
   "source": [
    "Your interpretation here (5 pts): Loadings that are most important for PCs alongwith variance are given."
   ]
  },
  {
   "cell_type": "markdown",
   "metadata": {},
   "source": [
    "##### Grading Feedback Cell\n",
    "The loading vector coefficients represent covariance between the words and the loading vector if withStd=False in the standard scaler.  If withStd=True, the loading vector coefficients would represent correlation between the words and the loading vector."
   ]
  },
  {
   "cell_type": "markdown",
   "metadata": {},
   "source": [
    "# Question 5: (10 pts)\n",
    "\n",
    "Create a new pipeline for PCA called `pipe_pca2` where you fit 50 principal components. Extract the `PCAModel` from the stages of this pipeline, and assign to a variable named `explainedVariance` which represents the variance explained by components of the model. Finally, assign to a variable named `best_k` the value $k$ such that ($k+1$)-th component is not able to explain more than 0.01 variance. You can use a for-loop to find such best k.  The value best_k should be be 0 based - in other words present best_k assuming that you started counting at 0."
   ]
  },
  {
   "cell_type": "code",
   "execution_count": 17,
   "metadata": {
    "deletable": false,
    "nbgrader": {
     "checksum": "8f1eb781acb7a61a4176067666602247",
     "grade": false,
     "grade_id": "cell-3c9669871f98d13c",
     "locked": false,
     "schema_version": 1,
     "solution": true
    }
   },
   "outputs": [
    {
     "name": "stdout",
     "output_type": "stream",
     "text": [
      "29\n"
     ]
    }
   ],
   "source": [
    "# your code here\n",
    "# your code here\n",
    "pipe_pca2 = Pipeline(stages=[feature.StandardScaler(withMean=True,withStd = False,inputCol='features', outputCol='f'),\n",
    "                            feature.PCA(k=50, inputCol='f', outputCol='scores')]).fit(ds_features_df)\n",
    "\n",
    "explainedVariance = pipe_pca2.stages[-1].explainedVariance\n",
    "\n",
    "for i,val in enumerate(explainedVariance):\n",
    "    if val < 0.01:\n",
    "        best_k = i-1\n",
    "        break\n",
    "print(best_k)"
   ]
  },
  {
   "cell_type": "markdown",
   "metadata": {},
   "source": [
    "##### Grading Feedback Cell"
   ]
  },
  {
   "cell_type": "markdown",
   "metadata": {},
   "source": [
    "# Question 6: (10 pts)\n",
    "\n",
    "Create a new pipeline for PCA called pipe_pca3 (similar to pipe_pca2 above) where you fit the maximum possible number of principal components for this dataset. Create a scree plot and a plot of cumulative variance explained."
   ]
  },
  {
   "cell_type": "code",
   "execution_count": 18,
   "metadata": {
    "scrolled": true
   },
   "outputs": [
    {
     "data": {
      "image/png": "[encoded data removed]",
      "text/plain": [
       "<Figure size 432x288 with 1 Axes>"
      ]
     },
     "metadata": {
      "needs_background": "light"
     },
     "output_type": "display_data"
    }
   ],
   "source": [
    "# your code here\n",
    "pipe_pca3 = Pipeline(stages=[feature.StandardScaler(withMean=True,withStd = False,inputCol='features', outputCol='f'),\n",
    "                            feature.PCA(k=len(pipe_features.stages[2].vocabulary), inputCol='f', outputCol='scores')]).fit(ds_features_df)\n",
    "e_V3 = pipe_pca3.stages[-1].explainedVariance\n",
    "\n",
    "plt.plot(np.arange(1, len(e_V3)+1),e_V3,color='red')\n",
    "plt.title(\"Scree Plot\")\n",
    "plt.xlabel(\"Principal Component\")\n",
    "plt.ylabel(\"Proportion Variance\")\n",
    "plt.show()\n",
    "\n"
   ]
  },
  {
   "cell_type": "code",
   "execution_count": 21,
   "metadata": {},
   "outputs": [
    {
     "data": {
      "image/png": "[encoded data removed]",
      "text/plain": [
       "<Figure size 432x288 with 1 Axes>"
      ]
     },
     "metadata": {
      "needs_background": "light"
     },
     "output_type": "display_data"
    }
   ],
   "source": [
    "cum_sum = np.cumsum(e_V3)\n",
    "\n",
    "plt.plot(np.arange(1, len(e_V3)+1), cum_sum,color='green')\n",
    "\n",
    "plt.title(\"Cumulative Sum of Variance Explained PLOT\")\n",
    "plt.xlabel(\"Cumulative Components\")\n",
    "plt.ylabel(\"Cumulative Sum of Variance Explained\")\n",
    "plt.show()"
   ]
  },
  {
   "cell_type": "markdown",
   "metadata": {},
   "source": [
    "##### Grading Feedback Cell\n",
    "-3: Runtime Error fixed by grader"
   ]
  },
  {
   "cell_type": "markdown",
   "metadata": {},
   "source": [
    "# Question 7: (10 pts)\n",
    "Create a pipeline named pipe_pca4 (similar to pipe_pca3 above) that computes the first 2 principal components.  Add a kmeans objects to the end of pipe_pca4 and compute kmeans with k = 5.  Create a scatter plot PC2 vs. PC1 where each scatter dot is colored by the cluster assignment.  Include a plot legend."
   ]
  },
  {
   "cell_type": "code",
   "execution_count": 26,
   "metadata": {},
   "outputs": [
    {
     "name": "stdout",
     "output_type": "stream",
     "text": [
      "[4]\n",
      "[4, 4, 4, 0, 4, 0, 4, 0, 0, 0, 2, 4, 4, 0, 1, 3, 0, 1, 3, 4, 0, 0, 3, 1, 3, 4, 0, 3, 4, 2, 4, 4, 4, 2, 0, 0, 0, 3, 4, 0, 4, 0, 4, 2, 4, 0, 0, 0, 0, 2, 0, 0, 0, 3, 0, 0, 2, 3, 2, 2, 1, 0, 1, 4, 3, 3, 0, 3, 3, 1, 4, 1, 0, 1, 0, 0, 0, 1, 0, 3, 0, 1, 0, 0, 2, 0, 4, 0, 0, 0, 4, 0, 0, 0, 4, 0, 0, 2, 0, 3, 4, 3, 3, 3, 0, 3, 0, 0, 3, 3, 3, 0, 3, 0, 0, 0, 4, 0, 4, 3, 3, 0, 2, 1, 3, 3, 0, 4, 3, 0, 1, 1, 1, 2, 1, 0, 3, 3, 0, 0, 0, 0, 0, 0, 0, 2, 3, 0, 4, 0, 0, 3, 4, 4, 0, 0, 0, 4, 0, 0, 4, 1, 4, 2, 2, 2, 3, 0, 1, 2, 0, 0, 0, 0, 4, 4, 3, 0, 3, 0, 3, 0, 1, 0, 1, 3, 0, 2, 2, 0, 1, 1, 4, 3, 0, 1, 1, 2, 0, 0, 0, 0, 0, 1, 4, 0, 3, 2, 0, 4, 3, 3, 3, 0, 2, 3, 3, 0, 0, 2, 1, 1]\n"
     ]
    },
    {
     "data": {
      "image/png": "[encoded data removed]",
      "text/plain": [
       "<Figure size 432x288 with 1 Axes>"
      ]
     },
     "metadata": {
      "needs_background": "light"
     },
     "output_type": "display_data"
    }
   ],
   "source": [
    "# your code here\n",
    "# your code here\n",
    "center = feature.StandardScaler(withMean=True, withStd=False, inputCol='features', outputCol='c_features')\n",
    "\n",
    "pca = feature.PCA(k=2, inputCol='c_features', outputCol='p_features')\n",
    "norm = feature.Normalizer(inputCol=\"p_features\", outputCol=\"norm_features\", p=2.0)\n",
    "\n",
    "kmeans = clustering.KMeans(k=5, featuresCol='norm_features', predictionCol='kmeans_features')\n",
    "\n",
    "\n",
    "pipe_pca4 = Pipeline(stages=[center,pca,norm,kmeans]).fit(ds_features_df)\n",
    "pipe_pca4_df = pipe_pca4.transform(ds_features_df).select('p_features', 'kmeans_features')\n",
    "\n",
    "\n",
    "\n",
    "cluster_assignment = pipe_pca4_df.select('kmeans_features').collect()\n",
    "#print(cluster_assignment)\n",
    "clusters = [cluster_assignment[0].kmeans_features]\n",
    "print(clusters)\n",
    "for i in range(1,len(cluster_assignment)):\n",
    "    clusters.append(cluster_assignment[i].kmeans_features)\n",
    "print(clusters)\n",
    "pca_scores_raw = pipe_pca4_df.select('p_features').collect()\n",
    "\n",
    "PC1 = [pca_scores_raw[0].p_features[0]]\n",
    "for i in range(1,len(pca_scores_raw)):\n",
    "    PC1.append(pca_scores_raw[i].p_features[0])\n",
    "\n",
    "PC2 = [pca_scores_raw[0].p_features[1]]\n",
    "for i in range(1,len(pca_scores_raw)):\n",
    "    PC2.append(pca_scores_raw[i].p_features[1])\n",
    "\n",
    "import seaborn as sns\n",
    "g = sns.scatterplot(x=PC1, y=PC2,hue=clusters,legend='full',palette=['green','orange','purple','blue','red'], style =clusters)\n",
    "plt.title(\"PC1 VS PC2 scores with cluster assignments\")\n",
    "plt.xlabel(\"PC1 scores\")\n",
    "plt.ylabel(\"PC2 scores\")\n",
    "g.get_legend().set_title('cluster')\n",
    "display()"
   ]
  },
  {
   "cell_type": "markdown",
   "metadata": {},
   "source": [
    "##### Grading Feedback Cell"
   ]
  },
  {
   "cell_type": "markdown",
   "metadata": {},
   "source": [
    "# Question 8: (10 pts)\n",
    "Starting with pipe_pca2, transform the pipeline and save the resulting dataframe to a variable named `pca_fun`.  Extract the output from the standard scaler column from the first row of pca_fun and store in a variable called `z`. Manually compute 10 PCA scores by projecting z onto the first 10 loading vectors. Save the 10 projected pca scores in a varialbe called `projection`.  Extract the first 10 PCA scores from the first row of pca_fun and save them in a variable named `model_scores`.  Print `projection` and `model_scores`.  Compare `projection` to `model_scores` and explain why they are the same or different. "
   ]
  },
  {
   "cell_type": "code",
   "execution_count": 27,
   "metadata": {},
   "outputs": [
    {
     "name": "stdout",
     "output_type": "stream",
     "text": [
      "10 PCA Projection Scores:\n",
      " [-0.2893653   1.22587424 -1.32547104 -0.43764664  0.44087571 -1.07801359\n",
      " -1.46592373  0.31262874  0.11687763 -0.33874958]\n",
      "10 PCA Model Scores are:\n",
      " [-0.2893653   1.22587424 -1.32547104 -0.43764664  0.44087571 -1.07801359\n",
      " -1.46592373  0.31262874  0.11687763 -0.33874958]\n"
     ]
    }
   ],
   "source": [
    "# your code here (5 pts)\n",
    "# your code here (5 pts)\n",
    "\n",
    "\n",
    "pca_fun = pipe_pca2.transform(ds_features_df)\n",
    "\n",
    "z = pca_fun.select('f').first()['f']\n",
    "\n",
    "loadings_pipe_pca2 = pipe_pca2.stages[-1].pc.toArray()\n",
    "\n",
    "projection = z.dot(loadings_pipe_pca2[:,0:10])\n",
    "print(\"10 PCA Projection Scores:\\n\",projection)\n",
    "\n",
    "model_scores = pca_fun.select('scores').first()['scores'][0:10]\n",
    "print(\"10 PCA Model Scores are:\\n\",model_scores)"
   ]
  },
  {
   "cell_type": "markdown",
   "metadata": {},
   "source": [
    "##### Grading Feedback Cell"
   ]
  },
  {
   "cell_type": "markdown",
   "metadata": {},
   "source": [
    "Your explanation here (5 pts): Both are similar because when loading vectors are multiplied with observations the result is pca scores. "
   ]
  },
  {
   "cell_type": "markdown",
   "metadata": {},
   "source": [
    "##### Grading Feedback Cell"
   ]
  },
  {
   "cell_type": "markdown",
   "metadata": {},
   "source": [
    "# Question 9: (10 pts)\n",
    "Using PCA loading vectors, perform an inverse transform on the `projection` variable and store the result in a variable named inverse.  Print `inverse` and the original `z` data.  Explain why the inverse data is the same as `z` (or really close to `z`), or why it is different than `z`.  "
   ]
  },
  {
   "cell_type": "code",
   "execution_count": 28,
   "metadata": {},
   "outputs": [
    {
     "data": {
      "text/plain": [
       "array([-0.04834957,  0.23389233, -0.69576894, -0.21105114,  0.44362903,\n",
       "       -0.01112868,  2.06221089, -0.30537735, -0.39426726,  0.02064218,\n",
       "        0.2939959 , -0.02173384, -0.11801996,  0.23064638, -0.13921884,\n",
       "        0.17301953, -0.12390395, -0.12390395, -0.12403536, -0.29310009,\n",
       "       -0.22589179,  0.22404521, -0.35696817,  0.13443261, -0.17678547,\n",
       "       -0.17071663,  0.26061751,  0.05600481, -0.09886341,  0.4930084 ,\n",
       "        0.86719743, -0.01279271, -0.017631  ,  0.05716824, -0.01621876,\n",
       "       -0.1174412 , -0.1174412 ,  0.0096965 , -0.08597468, -0.04560082,\n",
       "        0.0139347 , -0.01701422,  0.01578073, -0.00025251, -0.09974429,\n",
       "        0.23357274, -0.0432366 , -0.07420458, -0.07560859,  0.007687  ,\n",
       "        0.04998189,  0.00425463, -0.06376777, -0.07560859, -0.214251  ,\n",
       "       -0.06100712,  0.0132183 , -0.05681794,  0.00417634,  0.00032569,\n",
       "       -0.1071255 , -0.04575418,  0.04964529,  0.04964529, -0.05681794,\n",
       "       -0.0470968 , -0.04046285, -0.07763752, -0.0369697 , -0.02862584,\n",
       "       -0.00938018,  0.09627082, -0.04287229,  0.00841322, -0.07763752,\n",
       "       -0.00457335, -0.02747447, -0.01950589, -0.00701988,  0.00032569,\n",
       "        0.09627082, -0.04575418, -0.02862584,  0.00032569, -0.00457335,\n",
       "       -0.06632752, -0.0470968 ,  0.01659214,  0.00489332,  0.01694012,\n",
       "       -0.02376499,  0.00032569, -0.00310441, -0.03706984, -0.04600943,\n",
       "       -0.02686847, -0.04740265, -0.00310441])"
      ]
     },
     "execution_count": 28,
     "metadata": {},
     "output_type": "execute_result"
    }
   ],
   "source": [
    "# your code here (5 pts)\n",
    "np.set_printoptions(suppress=True)\n",
    "inverse = loadings_pipe_pca2[:,:10].dot(projection[:])\n",
    "inverse"
   ]
  },
  {
   "cell_type": "code",
   "execution_count": 29,
   "metadata": {},
   "outputs": [
    {
     "name": "stdout",
     "output_type": "stream",
     "text": [
      "[0.057180220036563034,0.29830614553912993,-0.500164231226403,-0.36213126221273584,0.8302945209178554,-0.24098572336347818,2.1616056760509887,-0.23897148177448116,-0.21909331387449488,-0.20638446153250645,-0.19968103721300093,-0.2086993319516678,-0.19710492462101953,-0.17021487380635458,-0.17923925133324392,-0.16209679163956386,-0.14479692044321307,-0.14479692044321307,-0.1590514375466797,-0.13984624677775104,-0.13555299543521387,-0.144592215951527,-0.13555299543521387,-0.10492843066874764,-0.10492843066874764,-0.10492843066874764,-0.0935476114163461,-0.09771384600627199,-0.08142820500522666,3.533984097226837,-0.08142820500522666,-0.0684276370995679,-0.0684276370995679,-0.0684276370995679,-0.05433618122081389,-0.05433618122081389,-0.05433618122081389,-0.05433618122081389,-0.05433618122081389,-0.03881585119632441,-0.03881585119632441,-0.03881585119632441,-0.03881585119632441,-0.03881585119632441,-0.03881585119632441,-0.03881585119632441,-0.03881585119632441,-0.03881585119632441,-0.03881585119632441,-0.03881585119632441,-0.03881585119632441,-0.03881585119632441,-0.03881585119632441,-0.03881585119632441,-0.04246869000810967,-0.03881585119632441,-0.021234345004054835,-0.021234345004054835,-0.021234345004054835,-0.021234345004054835,-0.021234345004054835,-0.021234345004054835,-0.021234345004054835,-0.021234345004054835,-0.021234345004054835,-0.021234345004054835,-0.021234345004054835,-0.021234345004054835,-0.021234345004054835,-0.021234345004054835,-0.021234345004054835,-0.021234345004054835,-0.021234345004054835,-0.021234345004054835,-0.021234345004054835,-0.021234345004054835,-0.021234345004054835,-0.021234345004054835,-0.021234345004054835,-0.021234345004054835,-0.021234345004054835,-0.021234345004054835,-0.021234345004054835,-0.021234345004054835,-0.021234345004054835,-0.021234345004054835,-0.021234345004054835,-0.021234345004054835,-0.021234345004054835,-0.021234345004054835,-0.021234345004054835,-0.021234345004054835,-0.021234345004054835,-0.021234345004054835,-0.021234345004054835,-0.021234345004054835,-0.021234345004054835,-0.021234345004054835]\n"
     ]
    }
   ],
   "source": [
    "print(z)"
   ]
  },
  {
   "cell_type": "markdown",
   "metadata": {},
   "source": [
    "##### Grading Feedback Cell"
   ]
  },
  {
   "cell_type": "markdown",
   "metadata": {},
   "source": [
    "Your explanation here (5 pts): The values are different since only 10 loading vectors were used for projection calculation.If more loading vectors are included more similar values can be obtained."
   ]
  },
  {
   "cell_type": "markdown",
   "metadata": {},
   "source": [
    "##### Grading Feedbck Cell"
   ]
  },
  {
   "cell_type": "markdown",
   "metadata": {},
   "source": [
    "# Question 10: (10 pts)\n",
    "\n",
    "Think about the cumulative variance and the scree plot from the question above.  If you were building a machine learning model, how many principal components would you pick for your model.  Explain why.  "
   ]
  },
  {
   "cell_type": "markdown",
   "metadata": {},
   "source": [
    "Your Answer Here: The scree plot shows a large change in slopes at the 30th eigenvalue. From the graph of the cumulative proportions, you can see that the first 30 PCs explain 80-85% of the cumulative variance in the data.30-31 is a good number for PCA.\n"
   ]
  },
  {
   "cell_type": "markdown",
   "metadata": {},
   "source": [
    "##### Grading Feedback Cell"
   ]
  }
 ],
 "metadata": {
  "celltoolbar": "Edit Metadata",
  "kernelspec": {
   "display_name": "Python 3",
   "language": "python",
   "name": "python3"
  },
  "language_info": {
   "codemirror_mode": {
    "name": "ipython",
    "version": 3
   },
   "file_extension": ".py",
   "mimetype": "text/x-python",
   "name": "python",
   "nbconvert_exporter": "python",
   "pygments_lexer": "ipython3",
   "version": "3.7.6"
  }
 },
 "nbformat": 4,
 "nbformat_minor": 2
}
