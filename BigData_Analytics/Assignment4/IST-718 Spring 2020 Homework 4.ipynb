{
 "cells": [
  {
   "cell_type": "markdown",
   "metadata": {},
   "source": [
    "### Grading Feedback\n",
    "96%"
   ]
  },
  {
   "cell_type": "markdown",
   "metadata": {},
   "source": [
    "# IST 718: Big Data Analytics\n",
    "\n",
    "- Professor: Willard Williamson <wewillia@syr.edu>\n",
    "- Faculty Assistant: Yash Pasar <yspasar@syr.edu>\n",
    "## General instructions:\n",
    "\n",
    "- You are welcome to discuss the problems with your classmates but __you are not allowed to copy any part of your answers from your classmates.  Short code snippets are allowed from the internet.  Code from the class text books or class provided code can be copied in its entirety.__\n",
    "- There could be tests in some cells (i.e., `assert` and `np.testing.` statements). These tests (if present) are used to grade your answers. **However, the professor and FAs could use __additional__ test for your answer. Think about cases where your code should run even if it passess all the tests you see.**\n",
    "- Before submitting your work, remember to check for run time errors with the following procedure:\n",
    "`Kernel`$\\rightarrow$`Restart and Run All`.  All runtime errors will result in a minimum penalty of half off.\n",
    "- Data Bricks is the official class runtime environment so you should test your code on Data Bricks before submission.  If there is a runtime problem in the grading environment, we will try your code on Data Bricks before making a final grading decision.\n",
    "- All plots shall include a title, and axis labels.\n",
    "- Grading feedback cells are there for graders to provide feedback to students.  Don't change or remove grading feedback cells.\n",
    "- Don't add or remove files from your git repo.\n",
    "- Do not change file names in your repo.  This also means don't change the title of the ipython notebook.\n",
    "- You are free to add additional code cells around the cells marked `your code here`.\n",
    "- Students may use toPandas() to print the head of data frames.\n",
    "- __Only use spark, spark machine learning, spark data frames, RDD's, and map reduce to solve all problems unless instructed otherwise.__"
   ]
  },
  {
   "cell_type": "code",
   "execution_count": 20,
   "metadata": {},
   "outputs": [],
   "source": [
    "# Do not delete or change this cell\n",
    "\n",
    "import os\n",
    "\n",
    "# Define a function to determine if we are running on data bricks\n",
    "# Return true if running in the data bricks environment, false otherwise\n",
    "def is_databricks():\n",
    "    # get the databricks runtime version\n",
    "    db_env = os.getenv(\"DATABRICKS_RUNTIME_VERSION\")\n",
    "    \n",
    "    # if running on data bricks\n",
    "    if db_env != None:\n",
    "        return True\n",
    "    else:\n",
    "        return False\n",
    "\n",
    "# Define a function to read the data file.  The full path data file name is constructed\n",
    "# by checking runtime environment variables to determine if the runtime environment is \n",
    "# databricks, or a student's personal computer.  The full path file name is then\n",
    "# constructed based on the runtime env.\n",
    "# \n",
    "# Params\n",
    "#   data_file_name: The base name of the data file to load\n",
    "# \n",
    "# Returns the full path file name based on the runtime env\n",
    "#\n",
    "def get_training_filename(data_file_name):    \n",
    "    # if running on data bricks\n",
    "    if is_databricks():\n",
    "        # build the full path file name assuming data brick env\n",
    "        full_path_name = \"/FileStore/tables/%s\" % data_file_name\n",
    "    # else the data is assumed to be in the same dir as this notebook\n",
    "    else:\n",
    "        # Assume the student is running on their own computer and load the data\n",
    "        # file from the same dir as this notebook\n",
    "        full_path_name = data_file_name\n",
    "    \n",
    "    # return the full path file name to the caller\n",
    "    return full_path_name"
   ]
  },
  {
   "cell_type": "code",
   "execution_count": 21,
   "metadata": {},
   "outputs": [],
   "source": [
    "from pyspark.sql import functions as fn\n",
    "from pyspark.sql import SparkSession\n",
    "from pyspark.sql import Row\n",
    "\n",
    "from pyspark.ml import feature\n",
    "from pyspark.ml import Pipeline\n",
    "from pyspark.ml import regression\n",
    "from pyspark.ml import classification\n",
    "from math import exp,fabs\n",
    "from pyspark.ml.feature import StandardScaler\n",
    "import re \n",
    "from pyspark.sql.functions import *\n",
    "from pyspark.sql.types import IntegerType,DoubleType\n",
    "\n",
    "import numpy as np\n",
    "import pandas as pd\n",
    "import matplotlib.pyplot as plt\n",
    "spark = SparkSession.builder.getOrCreate()\n",
    "sc = spark.sparkContext"
   ]
  },
  {
   "cell_type": "markdown",
   "metadata": {},
   "source": [
    "# Question 1\n",
    "Using the get_training_filename function defined in the cell above, read the sms_spam.csv file into a spark dataframe named spam_df.  There should be no empty columns in spam_df."
   ]
  },
  {
   "cell_type": "code",
   "execution_count": 22,
   "metadata": {},
   "outputs": [
    {
     "name": "stdout",
     "output_type": "stream",
     "text": [
      "root\n",
      " |-- type: string (nullable = true)\n",
      " |-- text: string (nullable = true)\n",
      "\n",
      "+----+--------------------+\n",
      "|type|                text|\n",
      "+----+--------------------+\n",
      "| ham|Go until jurong p...|\n",
      "| ham|Ok lar... Joking ...|\n",
      "|spam|Free entry in 2 a...|\n",
      "| ham|U dun say so earl...|\n",
      "| ham|Nah I don't think...|\n",
      "+----+--------------------+\n",
      "only showing top 5 rows\n",
      "\n",
      "No of rows and columns in spam_df:(5574,2)\n"
     ]
    },
    {
     "data": {
      "text/html": [
       "<div>\n",
       "<style scoped>\n",
       "    .dataframe tbody tr th:only-of-type {\n",
       "        vertical-align: middle;\n",
       "    }\n",
       "\n",
       "    .dataframe tbody tr th {\n",
       "        vertical-align: top;\n",
       "    }\n",
       "\n",
       "    .dataframe thead th {\n",
       "        text-align: right;\n",
       "    }\n",
       "</style>\n",
       "<table border=\"1\" class=\"dataframe\">\n",
       "  <thead>\n",
       "    <tr style=\"text-align: right;\">\n",
       "      <th></th>\n",
       "      <th>type</th>\n",
       "      <th>text</th>\n",
       "    </tr>\n",
       "  </thead>\n",
       "  <tbody>\n",
       "    <tr>\n",
       "      <td>0</td>\n",
       "      <td>ham</td>\n",
       "      <td>Go until jurong point, crazy.. Available only ...</td>\n",
       "    </tr>\n",
       "    <tr>\n",
       "      <td>1</td>\n",
       "      <td>ham</td>\n",
       "      <td>Ok lar... Joking wif u oni...</td>\n",
       "    </tr>\n",
       "    <tr>\n",
       "      <td>2</td>\n",
       "      <td>spam</td>\n",
       "      <td>Free entry in 2 a wkly comp to win FA Cup fina...</td>\n",
       "    </tr>\n",
       "    <tr>\n",
       "      <td>3</td>\n",
       "      <td>ham</td>\n",
       "      <td>U dun say so early hor... U c already then say...</td>\n",
       "    </tr>\n",
       "    <tr>\n",
       "      <td>4</td>\n",
       "      <td>ham</td>\n",
       "      <td>Nah I don't think he goes to usf, he lives aro...</td>\n",
       "    </tr>\n",
       "  </tbody>\n",
       "</table>\n",
       "</div>"
      ],
      "text/plain": [
       "   type                                               text\n",
       "0   ham  Go until jurong point, crazy.. Available only ...\n",
       "1   ham                      Ok lar... Joking wif u oni...\n",
       "2  spam  Free entry in 2 a wkly comp to win FA Cup fina...\n",
       "3   ham  U dun say so early hor... U c already then say...\n",
       "4   ham  Nah I don't think he goes to usf, he lives aro..."
      ]
     },
     "execution_count": 22,
     "metadata": {},
     "output_type": "execute_result"
    }
   ],
   "source": [
    "# Your code here\n",
    "spam_df = get_training_filename('sms_spam.csv')\n",
    "spam_df = spark.read.csv(spam_df, header=True, inferSchema=True, mode=\"DROPMALFORMED\")\n",
    "spam_df.printSchema()\n",
    "spam_df.show(5)\n",
    "\n",
    "print(f\"No of rows and columns in spam_df:({spam_df.count()},{len(spam_df.columns)})\")\n",
    "spam_df.toPandas().head(5)"
   ]
  },
  {
   "cell_type": "markdown",
   "metadata": {},
   "source": [
    "### Grading Feedback"
   ]
  },
  {
   "cell_type": "markdown",
   "metadata": {},
   "source": [
    "# Question 2\n",
    "Starting with spam_df, create a new dataframe named spam_df1.  Rename the spam_df type column to be named spam.  In the spam column, replace the string `spam` the with the integer 1 and the string `ham` with the integer 0.  Print the head and shape of spam_df1."
   ]
  },
  {
   "cell_type": "code",
   "execution_count": 23,
   "metadata": {},
   "outputs": [
    {
     "name": "stdout",
     "output_type": "stream",
     "text": [
      "+----+--------------------+\n",
      "|spam|                text|\n",
      "+----+--------------------+\n",
      "| ham|Go until jurong p...|\n",
      "| ham|Ok lar... Joking ...|\n",
      "|spam|Free entry in 2 a...|\n",
      "| ham|U dun say so earl...|\n",
      "+----+--------------------+\n",
      "only showing top 4 rows\n",
      "\n"
     ]
    }
   ],
   "source": [
    "# your code here\n",
    "spam_df1 = spam_df\n",
    "spam_df1 = spam_df1.withColumnRenamed(\"type\",\"spam\")\n",
    "spam_df1.show(4)"
   ]
  },
  {
   "cell_type": "code",
   "execution_count": 24,
   "metadata": {},
   "outputs": [],
   "source": [
    "spam_df1 = spam_df1.withColumn('spam',regexp_replace('spam', 'ham', '0'))"
   ]
  },
  {
   "cell_type": "code",
   "execution_count": 25,
   "metadata": {},
   "outputs": [
    {
     "name": "stdout",
     "output_type": "stream",
     "text": [
      "root\n",
      " |-- spam: integer (nullable = true)\n",
      " |-- text: string (nullable = true)\n",
      "\n"
     ]
    },
    {
     "data": {
      "text/html": [
       "<div>\n",
       "<style scoped>\n",
       "    .dataframe tbody tr th:only-of-type {\n",
       "        vertical-align: middle;\n",
       "    }\n",
       "\n",
       "    .dataframe tbody tr th {\n",
       "        vertical-align: top;\n",
       "    }\n",
       "\n",
       "    .dataframe thead th {\n",
       "        text-align: right;\n",
       "    }\n",
       "</style>\n",
       "<table border=\"1\" class=\"dataframe\">\n",
       "  <thead>\n",
       "    <tr style=\"text-align: right;\">\n",
       "      <th></th>\n",
       "      <th>spam</th>\n",
       "      <th>text</th>\n",
       "    </tr>\n",
       "  </thead>\n",
       "  <tbody>\n",
       "    <tr>\n",
       "      <td>0</td>\n",
       "      <td>0</td>\n",
       "      <td>Go until jurong point, crazy.. Available only ...</td>\n",
       "    </tr>\n",
       "    <tr>\n",
       "      <td>1</td>\n",
       "      <td>0</td>\n",
       "      <td>Ok lar... Joking wif u oni...</td>\n",
       "    </tr>\n",
       "    <tr>\n",
       "      <td>2</td>\n",
       "      <td>1</td>\n",
       "      <td>Free entry in 2 a wkly comp to win FA Cup fina...</td>\n",
       "    </tr>\n",
       "    <tr>\n",
       "      <td>3</td>\n",
       "      <td>0</td>\n",
       "      <td>U dun say so early hor... U c already then say...</td>\n",
       "    </tr>\n",
       "    <tr>\n",
       "      <td>4</td>\n",
       "      <td>0</td>\n",
       "      <td>Nah I don't think he goes to usf, he lives aro...</td>\n",
       "    </tr>\n",
       "  </tbody>\n",
       "</table>\n",
       "</div>"
      ],
      "text/plain": [
       "   spam                                               text\n",
       "0     0  Go until jurong point, crazy.. Available only ...\n",
       "1     0                      Ok lar... Joking wif u oni...\n",
       "2     1  Free entry in 2 a wkly comp to win FA Cup fina...\n",
       "3     0  U dun say so early hor... U c already then say...\n",
       "4     0  Nah I don't think he goes to usf, he lives aro..."
      ]
     },
     "execution_count": 25,
     "metadata": {},
     "output_type": "execute_result"
    }
   ],
   "source": [
    "spam_df1 = spam_df1.withColumn('spam', regexp_replace('spam', 'spam', '1'))\n",
    "\n",
    "spam_df1 = spam_df1.withColumn(\"spam\",col(\"spam\").cast(IntegerType()))\n",
    "spam_df1.printSchema()\n",
    "spam_df1.toPandas().head(5)"
   ]
  },
  {
   "cell_type": "markdown",
   "metadata": {},
   "source": [
    "# Question 3\n",
    "Starting with spam_df1, create a new dataframe named spam_df2 with a new column named filtered_text by removing stop words from the text column in spam_df.  Print the head and shape of spam_df2."
   ]
  },
  {
   "cell_type": "code",
   "execution_count": 26,
   "metadata": {},
   "outputs": [],
   "source": [
    "# your code here\n",
    "from pyspark.ml.feature import StopWordsRemover\n",
    "from pyspark.sql.utils import *\n",
    "from pyspark.ml.feature import *\n",
    "from pyspark.ml.feature import Tokenizer\n",
    "from pyspark.sql.functions import udf, col, lower, regexp_replace\n",
    "from pyspark.ml.feature import Tokenizer, StopWordsRemover\n",
    "\n",
    "\n",
    "spam_df_stop=spam_df1\n",
    "def clean_text(c):\n",
    "  c = lower(c)\n",
    "  c = regexp_replace(c, \"^rt \", \"\")\n",
    "  c = regexp_replace(c, \"(https?\\://)\\S+\", \"\")\n",
    "  c = regexp_replace(c, \"[^a-zA-Z0-9\\\\s]\", \"\")\n",
    "  \n",
    "  return c\n",
    "\n",
    "clean_text_df = spam_df_stop.select(clean_text(col(\"text\")).alias(\"text\"))\n",
    "# Tokenize text\n",
    "tokenizer = Tokenizer(inputCol='text', outputCol='text1')\n",
    "# Remove stop words\n",
    "remover = StopWordsRemover(inputCol='text1', outputCol=('filtered_text'))\n",
    "spam_df2 = spam_df1\n"
   ]
  },
  {
   "cell_type": "code",
   "execution_count": 27,
   "metadata": {},
   "outputs": [
    {
     "name": "stdout",
     "output_type": "stream",
     "text": [
      "No of rows and columns in spam_df2:(5574,3)\n"
     ]
    },
    {
     "data": {
      "text/html": [
       "<div>\n",
       "<style scoped>\n",
       "    .dataframe tbody tr th:only-of-type {\n",
       "        vertical-align: middle;\n",
       "    }\n",
       "\n",
       "    .dataframe tbody tr th {\n",
       "        vertical-align: top;\n",
       "    }\n",
       "\n",
       "    .dataframe thead th {\n",
       "        text-align: right;\n",
       "    }\n",
       "</style>\n",
       "<table border=\"1\" class=\"dataframe\">\n",
       "  <thead>\n",
       "    <tr style=\"text-align: right;\">\n",
       "      <th></th>\n",
       "      <th>spam</th>\n",
       "      <th>text</th>\n",
       "      <th>filtered_text</th>\n",
       "    </tr>\n",
       "  </thead>\n",
       "  <tbody>\n",
       "    <tr>\n",
       "      <td>0</td>\n",
       "      <td>0</td>\n",
       "      <td>Go until jurong point, crazy.. Available only ...</td>\n",
       "      <td>[go, jurong, point,, crazy.., available, bugis...</td>\n",
       "    </tr>\n",
       "    <tr>\n",
       "      <td>1</td>\n",
       "      <td>0</td>\n",
       "      <td>Ok lar... Joking wif u oni...</td>\n",
       "      <td>[ok, lar..., joking, wif, u, oni...]</td>\n",
       "    </tr>\n",
       "    <tr>\n",
       "      <td>2</td>\n",
       "      <td>1</td>\n",
       "      <td>Free entry in 2 a wkly comp to win FA Cup fina...</td>\n",
       "      <td>[free, entry, 2, wkly, comp, win, fa, cup, fin...</td>\n",
       "    </tr>\n",
       "    <tr>\n",
       "      <td>3</td>\n",
       "      <td>0</td>\n",
       "      <td>U dun say so early hor... U c already then say...</td>\n",
       "      <td>[u, dun, say, early, hor..., u, c, already, sa...</td>\n",
       "    </tr>\n",
       "    <tr>\n",
       "      <td>4</td>\n",
       "      <td>0</td>\n",
       "      <td>Nah I don't think he goes to usf, he lives aro...</td>\n",
       "      <td>[nah, think, goes, usf,, lives, around, though]</td>\n",
       "    </tr>\n",
       "  </tbody>\n",
       "</table>\n",
       "</div>"
      ],
      "text/plain": [
       "   spam                                               text  \\\n",
       "0     0  Go until jurong point, crazy.. Available only ...   \n",
       "1     0                      Ok lar... Joking wif u oni...   \n",
       "2     1  Free entry in 2 a wkly comp to win FA Cup fina...   \n",
       "3     0  U dun say so early hor... U c already then say...   \n",
       "4     0  Nah I don't think he goes to usf, he lives aro...   \n",
       "\n",
       "                                       filtered_text  \n",
       "0  [go, jurong, point,, crazy.., available, bugis...  \n",
       "1               [ok, lar..., joking, wif, u, oni...]  \n",
       "2  [free, entry, 2, wkly, comp, win, fa, cup, fin...  \n",
       "3  [u, dun, say, early, hor..., u, c, already, sa...  \n",
       "4    [nah, think, goes, usf,, lives, around, though]  "
      ]
     },
     "execution_count": 27,
     "metadata": {},
     "output_type": "execute_result"
    }
   ],
   "source": [
    "pipeline_remover = Pipeline(stages=[tokenizer, remover])\n",
    "pipeline_transformer = pipeline_remover.fit(spam_df2)\n",
    "spam_df2 = pipeline_transformer.transform(spam_df2)\n",
    "                           \n",
    "spam_df2 = spam_df2.drop(\"text1\")\n",
    "\n",
    "print(f\"No of rows and columns in spam_df2:({spam_df2.count()},{len(spam_df2.columns)})\")\n",
    "spam_df2.toPandas().head()"
   ]
  },
  {
   "cell_type": "markdown",
   "metadata": {},
   "source": [
    "### Grading Feedback\n",
    "-3 You didn't add any words to the stop word remover."
   ]
  },
  {
   "cell_type": "markdown",
   "metadata": {},
   "source": [
    "# Question 3\n",
    "Create a new dataframe named spam_df3 starting with spam_df2.  Create a new column named tfidf by performing a term frequency / inverse document frequency transformation on the filtered_text column of spam_df2.<br>  \n",
    "\n",
    "- Print the head and shape of spam_df3.  \n",
    "- Print the top 10 most important words indicated by the TFIDF score.  \n",
    "- Print the 10 least important words as indicated by the TFIDF score.\n",
    "- Print the total number of columns in the TFIDF data in spam_df3\n",
    "- Print the number of rows in the TFIDF data in spam_df3\n",
    "- Based only on the number of rows and columns in the TFIDF data, do you expect the model to overfit.  Explain your answer."
   ]
  },
  {
   "cell_type": "code",
   "execution_count": 28,
   "metadata": {},
   "outputs": [
    {
     "name": "stdout",
     "output_type": "stream",
     "text": [
      "+----+--------------------+--------------------+--------------------+\n",
      "|spam|                text|       filtered_text|               tfidf|\n",
      "+----+--------------------+--------------------+--------------------+\n",
      "|   0|Go until jurong p...|[go, jurong, poin...|(13361,[7,10,32,6...|\n",
      "|   0|Ok lar... Joking ...|[ok, lar..., joki...|(13361,[0,23,293,...|\n",
      "|   1|Free entry in 2 a...|[free, entry, 2, ...|(13361,[2,13,19,2...|\n",
      "|   0|U dun say so earl...|[u, dun, say, ear...|(13361,[0,71,78,1...|\n",
      "|   0|Nah I don't think...|[nah, think, goes...|(13361,[36,131,30...|\n",
      "+----+--------------------+--------------------+--------------------+\n",
      "only showing top 5 rows\n",
      "\n",
      "None\n"
     ]
    }
   ],
   "source": [
    "# Your code here\n",
    "from pyspark.ml.feature import CountVectorizer\n",
    "from pyspark.ml.feature import IDF as MLIDF\n",
    "\n",
    "\n",
    "\n",
    "cv = CountVectorizer(inputCol=\"filtered_text\", outputCol=\"tf\")\n",
    "#tf = hashingTF.transform(spam_df3)\n",
    "idf = MLIDF(inputCol=\"tf\", outputCol=\"tfidf\")\n",
    "\n",
    "spam_df3 = spam_df2\n",
    "\n",
    "p_idf = Pipeline(stages=[cv,idf])\n",
    "p_transformer = p_idf.fit(spam_df3)\n",
    "\n",
    "spam_df3 = p_transformer.transform(spam_df3)\n",
    "spam_df3 = spam_df3.drop(\"tf\")\n",
    "print(spam_df3.show(5))\n"
   ]
  },
  {
   "cell_type": "code",
   "execution_count": 29,
   "metadata": {},
   "outputs": [
    {
     "name": "stdout",
     "output_type": "stream",
     "text": [
      "+----+--------------------+--------------------+--------------------+\n",
      "|spam|                text|       filtered_text|               tfidf|\n",
      "+----+--------------------+--------------------+--------------------+\n",
      "|   0|Go until jurong p...|[go, jurong, poin...|(13361,[7,10,32,6...|\n",
      "|   0|Ok lar... Joking ...|[ok, lar..., joki...|(13361,[0,23,293,...|\n",
      "|   1|Free entry in 2 a...|[free, entry, 2, ...|(13361,[2,13,19,2...|\n",
      "|   0|U dun say so earl...|[u, dun, say, ear...|(13361,[0,71,78,1...|\n",
      "|   0|Nah I don't think...|[nah, think, goes...|(13361,[36,131,30...|\n",
      "+----+--------------------+--------------------+--------------------+\n",
      "only showing top 5 rows\n",
      "\n",
      "1. Shape of spam_df3:(5574,4)\n",
      "2. Number of rows in the TFIDF data of spam_df3:(5574)\n",
      "3. Number of columns in the TFIDF data of spam_df3:(13361)\n",
      "\n",
      "Most important words:\n",
      "\n",
      "1. Word:grl:, tfidf score:7.9329004157683745\n",
      "2. Word:bloo, tfidf score:7.9329004157683745\n",
      "3. Word:dsn't, tfidf score:7.9329004157683745\n",
      "4. Word:é, tfidf score:7.9329004157683745\n",
      "5. Word:pack, tfidf score:7.9329004157683745\n",
      "6. Word:boy:, tfidf score:7.9329004157683745\n",
      "7. Word:politicians., tfidf score:7.9329004157683745\n",
      "8. Word:favorite, tfidf score:7.9329004157683745\n",
      "9. Word:convinced, tfidf score:7.9329004157683745\n",
      "10. Word:num., tfidf score:7.9329004157683745\n",
      "\n",
      "\n",
      "Least important words:\n",
      "\n",
      "1. Word:u, tfidf score:2.026177097115483\n",
      "2. Word:call, tfidf score:2.3683800084456808\n",
      "3. Word:2, tfidf score:2.7125445906900496\n",
      "4. Word:get, tfidf score:2.751116865476289\n",
      "5. Word:ur, tfidf score:2.9024624943759387\n",
      "6. Word:, tfidf score:3.057703092567223\n",
      "7. Word:go, tfidf score:3.120716060395957\n",
      "8. Word:4, tfidf score:3.1664620821841605\n",
      "9. Word:got, tfidf score:3.2099471941238993\n",
      "10. Word:like, tfidf score:3.232420049975958\n"
     ]
    }
   ],
   "source": [
    "spam_df3.show(5)\n",
    "spam_df3.toPandas().head(5)\n",
    "print(f\"1. Shape of spam_df3:({spam_df3.count()},{len(spam_df3.columns)})\")\n",
    "print(f\"2. Number of rows in the TFIDF data of spam_df3:({spam_df3.select('tfidf').count()})\")\n",
    "print(f\"3. Number of columns in the TFIDF data of spam_df3:({len(p_transformer.stages[0].vocabulary)})\\n\")\n",
    "\n",
    "\n",
    "\n",
    "voc = p_transformer.stages[0].vocabulary\n",
    "tfidf_val = p_transformer.stages[1].idf.tolist()\n",
    "imp_words = {}\n",
    "for i in range(len(voc)):\n",
    "    imp_words[voc[i]] = tfidf_val[i]\n",
    "tf1 = sorted(imp_words.items(), key=lambda x: x[1], reverse=True)[0:10]\n",
    "tf2 = sorted(imp_words.items(), key=lambda x: x[1], reverse=False)[0:10]\n",
    "\n",
    "print(\"Most important words:\\n\")\n",
    "for i in range(10):\n",
    "    print(f\"{i + 1}. Word:{tf1[i][0]}, tfidf score:{tf1[i][1]}\")\n",
    "    \n",
    "print(\"\\n\")\n",
    "print(\"Least important words:\\n\")\n",
    "for i in range(10):\n",
    "    print(f\"{i + 1}. Word:{tf2[i][0]}, tfidf score:{tf2[i][1]}\")\n",
    "       "
   ]
  },
  {
   "cell_type": "markdown",
   "metadata": {},
   "source": [
    "Your model overfit explanation here: Since the number of rows are 5574 and number of features are 13361, the model will overfit (since no. of documents < no. of words). "
   ]
  },
  {
   "cell_type": "markdown",
   "metadata": {},
   "source": [
    "### Grading Feedback"
   ]
  },
  {
   "cell_type": "markdown",
   "metadata": {},
   "source": [
    "# Question 4\n",
    "Create a pipeline named pipe1 capable of predicting ham or spam using logistic regression using spam_df3 as input data."
   ]
  },
  {
   "cell_type": "code",
   "execution_count": 30,
   "metadata": {},
   "outputs": [
    {
     "data": {
      "text/html": [
       "<div>\n",
       "<style scoped>\n",
       "    .dataframe tbody tr th:only-of-type {\n",
       "        vertical-align: middle;\n",
       "    }\n",
       "\n",
       "    .dataframe tbody tr th {\n",
       "        vertical-align: top;\n",
       "    }\n",
       "\n",
       "    .dataframe thead th {\n",
       "        text-align: right;\n",
       "    }\n",
       "</style>\n",
       "<table border=\"1\" class=\"dataframe\">\n",
       "  <thead>\n",
       "    <tr style=\"text-align: right;\">\n",
       "      <th></th>\n",
       "      <th>spam</th>\n",
       "      <th>text</th>\n",
       "      <th>filtered_text</th>\n",
       "      <th>tfidf</th>\n",
       "      <th>rawPrediction</th>\n",
       "      <th>probability</th>\n",
       "      <th>prediction</th>\n",
       "    </tr>\n",
       "  </thead>\n",
       "  <tbody>\n",
       "    <tr>\n",
       "      <td>0</td>\n",
       "      <td>0</td>\n",
       "      <td>Go until jurong point, crazy.. Available only ...</td>\n",
       "      <td>[go, jurong, point,, crazy.., available, bugis...</td>\n",
       "      <td>(0.0, 0.0, 0.0, 0.0, 0.0, 0.0, 0.0, 3.12071606...</td>\n",
       "      <td>[7.875126494636135, -7.875126494636135]</td>\n",
       "      <td>[0.9996200635299503, 0.0003799364700497243]</td>\n",
       "      <td>0.0</td>\n",
       "    </tr>\n",
       "    <tr>\n",
       "      <td>1</td>\n",
       "      <td>0</td>\n",
       "      <td>Ok lar... Joking wif u oni...</td>\n",
       "      <td>[ok, lar..., joking, wif, u, oni...]</td>\n",
       "      <td>(2.026177097115483, 0.0, 0.0, 0.0, 0.0, 0.0, 0...</td>\n",
       "      <td>[7.175770351054618, -7.175770351054618]</td>\n",
       "      <td>[0.9992356883666598, 0.000764311633340185]</td>\n",
       "      <td>0.0</td>\n",
       "    </tr>\n",
       "    <tr>\n",
       "      <td>2</td>\n",
       "      <td>1</td>\n",
       "      <td>Free entry in 2 a wkly comp to win FA Cup fina...</td>\n",
       "      <td>[free, entry, 2, wkly, comp, win, fa, cup, fin...</td>\n",
       "      <td>(0.0, 0.0, 2.7125445906900496, 0.0, 0.0, 0.0, ...</td>\n",
       "      <td>[-4.6389541835295285, 4.6389541835295285]</td>\n",
       "      <td>[0.009575231636092262, 0.9904247683639077]</td>\n",
       "      <td>1.0</td>\n",
       "    </tr>\n",
       "    <tr>\n",
       "      <td>3</td>\n",
       "      <td>0</td>\n",
       "      <td>U dun say so early hor... U c already then say...</td>\n",
       "      <td>[u, dun, say, early, hor..., u, c, already, sa...</td>\n",
       "      <td>(4.052354194230966, 0.0, 0.0, 0.0, 0.0, 0.0, 0...</td>\n",
       "      <td>[7.226854850811412, -7.226854850811412]</td>\n",
       "      <td>[0.9992737246826263, 0.000726275317373701]</td>\n",
       "      <td>0.0</td>\n",
       "    </tr>\n",
       "    <tr>\n",
       "      <td>4</td>\n",
       "      <td>0</td>\n",
       "      <td>Nah I don't think he goes to usf, he lives aro...</td>\n",
       "      <td>[nah, think, goes, usf,, lives, around, though]</td>\n",
       "      <td>(0.0, 0.0, 0.0, 0.0, 0.0, 0.0, 0.0, 0.0, 0.0, ...</td>\n",
       "      <td>[7.1977172807977015, -7.1977172807977015]</td>\n",
       "      <td>[0.9992522675214567, 0.0007477324785433997]</td>\n",
       "      <td>0.0</td>\n",
       "    </tr>\n",
       "    <tr>\n",
       "      <td>5</td>\n",
       "      <td>1</td>\n",
       "      <td>FreeMsg Hey there darling it's been 3 week's n...</td>\n",
       "      <td>[freemsg, hey, darling, 3, week's, word, back!...</td>\n",
       "      <td>(0.0, 0.0, 0.0, 0.0, 0.0, 0.0, 0.0, 0.0, 0.0, ...</td>\n",
       "      <td>[-4.131735649071952, 4.131735649071952]</td>\n",
       "      <td>[0.015801299119157366, 0.9841987008808426]</td>\n",
       "      <td>1.0</td>\n",
       "    </tr>\n",
       "    <tr>\n",
       "      <td>6</td>\n",
       "      <td>0</td>\n",
       "      <td>Even my brother is not like to speak with me. ...</td>\n",
       "      <td>[even, brother, like, speak, me., treat, like,...</td>\n",
       "      <td>(0.0, 0.0, 0.0, 0.0, 0.0, 0.0, 0.0, 0.0, 0.0, ...</td>\n",
       "      <td>[7.109576726863699, -7.109576726863699]</td>\n",
       "      <td>[0.9991834265022089, 0.0008165734977910332]</td>\n",
       "      <td>0.0</td>\n",
       "    </tr>\n",
       "    <tr>\n",
       "      <td>7</td>\n",
       "      <td>0</td>\n",
       "      <td>As per your request 'Melle Melle (Oru Minnamin...</td>\n",
       "      <td>[per, request, 'melle, melle, (oru, minnaminun...</td>\n",
       "      <td>(0.0, 0.0, 0.0, 0.0, 0.0, 0.0, 0.0, 0.0, 0.0, ...</td>\n",
       "      <td>[7.54669966676475, -7.54669966676475]</td>\n",
       "      <td>[0.9994724291436684, 0.0005275708563316142]</td>\n",
       "      <td>0.0</td>\n",
       "    </tr>\n",
       "    <tr>\n",
       "      <td>8</td>\n",
       "      <td>1</td>\n",
       "      <td>WINNER!! As a valued network customer you have...</td>\n",
       "      <td>[winner!!, valued, network, customer, selected...</td>\n",
       "      <td>(0.0, 2.3683800084456808, 0.0, 0.0, 0.0, 0.0, ...</td>\n",
       "      <td>[-4.737612881155191, 4.737612881155191]</td>\n",
       "      <td>[0.008683468178936235, 0.9913165318210637]</td>\n",
       "      <td>1.0</td>\n",
       "    </tr>\n",
       "    <tr>\n",
       "      <td>9</td>\n",
       "      <td>1</td>\n",
       "      <td>Had your mobile 11 months or more? U R entitle...</td>\n",
       "      <td>[mobile, 11, months, more?, u, r, entitled, up...</td>\n",
       "      <td>(2.026177097115483, 2.3683800084456808, 0.0, 0...</td>\n",
       "      <td>[-4.19809502732168, 4.19809502732168]</td>\n",
       "      <td>[0.014801785663550377, 0.9851982143364495]</td>\n",
       "      <td>1.0</td>\n",
       "    </tr>\n",
       "  </tbody>\n",
       "</table>\n",
       "</div>"
      ],
      "text/plain": [
       "   spam                                               text  \\\n",
       "0     0  Go until jurong point, crazy.. Available only ...   \n",
       "1     0                      Ok lar... Joking wif u oni...   \n",
       "2     1  Free entry in 2 a wkly comp to win FA Cup fina...   \n",
       "3     0  U dun say so early hor... U c already then say...   \n",
       "4     0  Nah I don't think he goes to usf, he lives aro...   \n",
       "5     1  FreeMsg Hey there darling it's been 3 week's n...   \n",
       "6     0  Even my brother is not like to speak with me. ...   \n",
       "7     0  As per your request 'Melle Melle (Oru Minnamin...   \n",
       "8     1  WINNER!! As a valued network customer you have...   \n",
       "9     1  Had your mobile 11 months or more? U R entitle...   \n",
       "\n",
       "                                       filtered_text  \\\n",
       "0  [go, jurong, point,, crazy.., available, bugis...   \n",
       "1               [ok, lar..., joking, wif, u, oni...]   \n",
       "2  [free, entry, 2, wkly, comp, win, fa, cup, fin...   \n",
       "3  [u, dun, say, early, hor..., u, c, already, sa...   \n",
       "4    [nah, think, goes, usf,, lives, around, though]   \n",
       "5  [freemsg, hey, darling, 3, week's, word, back!...   \n",
       "6  [even, brother, like, speak, me., treat, like,...   \n",
       "7  [per, request, 'melle, melle, (oru, minnaminun...   \n",
       "8  [winner!!, valued, network, customer, selected...   \n",
       "9  [mobile, 11, months, more?, u, r, entitled, up...   \n",
       "\n",
       "                                               tfidf  \\\n",
       "0  (0.0, 0.0, 0.0, 0.0, 0.0, 0.0, 0.0, 3.12071606...   \n",
       "1  (2.026177097115483, 0.0, 0.0, 0.0, 0.0, 0.0, 0...   \n",
       "2  (0.0, 0.0, 2.7125445906900496, 0.0, 0.0, 0.0, ...   \n",
       "3  (4.052354194230966, 0.0, 0.0, 0.0, 0.0, 0.0, 0...   \n",
       "4  (0.0, 0.0, 0.0, 0.0, 0.0, 0.0, 0.0, 0.0, 0.0, ...   \n",
       "5  (0.0, 0.0, 0.0, 0.0, 0.0, 0.0, 0.0, 0.0, 0.0, ...   \n",
       "6  (0.0, 0.0, 0.0, 0.0, 0.0, 0.0, 0.0, 0.0, 0.0, ...   \n",
       "7  (0.0, 0.0, 0.0, 0.0, 0.0, 0.0, 0.0, 0.0, 0.0, ...   \n",
       "8  (0.0, 2.3683800084456808, 0.0, 0.0, 0.0, 0.0, ...   \n",
       "9  (2.026177097115483, 2.3683800084456808, 0.0, 0...   \n",
       "\n",
       "                               rawPrediction  \\\n",
       "0    [7.875126494636135, -7.875126494636135]   \n",
       "1    [7.175770351054618, -7.175770351054618]   \n",
       "2  [-4.6389541835295285, 4.6389541835295285]   \n",
       "3    [7.226854850811412, -7.226854850811412]   \n",
       "4  [7.1977172807977015, -7.1977172807977015]   \n",
       "5    [-4.131735649071952, 4.131735649071952]   \n",
       "6    [7.109576726863699, -7.109576726863699]   \n",
       "7      [7.54669966676475, -7.54669966676475]   \n",
       "8    [-4.737612881155191, 4.737612881155191]   \n",
       "9      [-4.19809502732168, 4.19809502732168]   \n",
       "\n",
       "                                   probability  prediction  \n",
       "0  [0.9996200635299503, 0.0003799364700497243]         0.0  \n",
       "1   [0.9992356883666598, 0.000764311633340185]         0.0  \n",
       "2   [0.009575231636092262, 0.9904247683639077]         1.0  \n",
       "3   [0.9992737246826263, 0.000726275317373701]         0.0  \n",
       "4  [0.9992522675214567, 0.0007477324785433997]         0.0  \n",
       "5   [0.015801299119157366, 0.9841987008808426]         1.0  \n",
       "6  [0.9991834265022089, 0.0008165734977910332]         0.0  \n",
       "7  [0.9994724291436684, 0.0005275708563316142]         0.0  \n",
       "8   [0.008683468178936235, 0.9913165318210637]         1.0  \n",
       "9   [0.014801785663550377, 0.9851982143364495]         1.0  "
      ]
     },
     "execution_count": 30,
     "metadata": {},
     "output_type": "execute_result"
    }
   ],
   "source": [
    "# your code here\n",
    "from pyspark.ml import Pipeline \n",
    "from pyspark.ml.feature import * \n",
    "from pyspark.ml.classification import LogisticRegression \n",
    "\n",
    "\n",
    "logistic = LogisticRegression(labelCol=\"spam\",featuresCol =\"tfidf\",maxIter=10, regParam=0.01)\n",
    "pipe1 = Pipeline(stages=[logistic]) \n",
    "# Fit the pipeline \n",
    "model = pipe1.fit(spam_df3) \n",
    "prediction = model.transform(spam_df3)\n",
    "prediction.toPandas().head(10)"
   ]
  },
  {
   "cell_type": "markdown",
   "metadata": {},
   "source": [
    "### Grading Feedback"
   ]
  },
  {
   "cell_type": "markdown",
   "metadata": {},
   "source": [
    "# Question 5\n",
    "Fit pipe1 using a [CrossValidator](https://spark.apache.org/docs/2.2.0/api/python/pyspark.ml.html#pyspark.ml.tuning.CrossValidator) object with the number of cross validation folds = 3.  Score the model using a [BinaryClassificationEvaluator](https://spark.apache.org/docs/latest/api/python/pyspark.ml.html) using ROC AUC as the metric.  Name the cross validator object cv1 and the fitted cross validator object fitted_cv1."
   ]
  },
  {
   "cell_type": "code",
   "execution_count": 31,
   "metadata": {},
   "outputs": [],
   "source": [
    "# your code here\n",
    "from pyspark.ml.tuning import ParamGridBuilder,CrossValidator\n",
    "from pyspark.ml.evaluation import BinaryClassificationEvaluator\n",
    "from pyspark.ml.linalg import Vectors\n",
    "\n",
    "\n",
    "grid = ParamGridBuilder().build()\n",
    "evaluator = BinaryClassificationEvaluator(labelCol='spam', metricName='areaUnderROC')\n",
    "cv1 = CrossValidator(estimator=pipe1, estimatorParamMaps=grid,numFolds=3,evaluator=evaluator,seed=70)\n",
    "fitted_cv1 = cv1.fit(spam_df3)\n"
   ]
  },
  {
   "cell_type": "markdown",
   "metadata": {},
   "source": [
    "### Grading Feedback"
   ]
  },
  {
   "cell_type": "markdown",
   "metadata": {},
   "source": [
    "# Question 6\n",
    "Print the cross validation AUC score from fitted_cv1."
   ]
  },
  {
   "cell_type": "code",
   "execution_count": 32,
   "metadata": {},
   "outputs": [
    {
     "name": "stdout",
     "output_type": "stream",
     "text": [
      "Area under ROC Curve: 1.0\n"
     ]
    }
   ],
   "source": [
    "# your code here\n",
    "\n",
    "roc = evaluator.evaluate(fitted_cv1.transform(spam_df3))\n",
    "print(f\"Area under ROC Curve: {roc}\")"
   ]
  },
  {
   "cell_type": "markdown",
   "metadata": {},
   "source": [
    "### Grading Feedback\n",
    "-3 We asked for the cross validation AUC and you computed an AUC using training data."
   ]
  },
  {
   "cell_type": "markdown",
   "metadata": {},
   "source": [
    "# Question 7\n",
    "Create a ROC scatter plot from fitted_pipe1 TPR/FPR data."
   ]
  },
  {
   "cell_type": "code",
   "execution_count": 33,
   "metadata": {},
   "outputs": [
    {
     "data": {
      "image/png": "[encoded data removed]",
      "text/plain": [
       "<Figure size 360x360 with 1 Axes>"
      ]
     },
     "metadata": {
      "needs_background": "light"
     },
     "output_type": "display_data"
    }
   ],
   "source": [
    "# your code here\n",
    "from sklearn.metrics import roc_curve,auc\n",
    "import matplotlib.pyplot as plt\n",
    "\n",
    "ft_df = fitted_cv1.bestModel.stages[0].summary.roc\n",
    "\n",
    "plt.figure(figsize=(5,5))\n",
    "plt.scatter(ft_df.select('FPR').collect(),\n",
    "         ft_df.select('TPR').collect(), label='ROC curve (area = %0.2f)'% roc)\n",
    "plt.plot([0, 1], [0, 1], 'y--')\n",
    "#plt.xlim([-0.01, 1.0])\n",
    "#plt.ylim([0.0, 1.05])\n",
    "plt.xlabel('False Positive Rate')\n",
    "plt.ylabel('True Positive Rate')\n",
    "plt.title('ROC Curve')\n",
    "plt.legend(loc=\"lower right\")\n",
    "plt.show()"
   ]
  },
  {
   "cell_type": "markdown",
   "metadata": {},
   "source": [
    "### Grading Feedback"
   ]
  },
  {
   "cell_type": "markdown",
   "metadata": {},
   "source": [
    "# Question 8\n",
    "Create a new cross validator object named cv2 similar to cv1 but this time add a ParamGridBuilder.  Define a grid of elastic net regularization parameters. Fit cv2 and name the resulting fitted cross validator fitted_cv2.  The number of parameters in your grid should be limited such that it runs in a reasonable amount of time (around 5 to 10 minutes max).  "
   ]
  },
  {
   "cell_type": "code",
   "execution_count": 34,
   "metadata": {},
   "outputs": [],
   "source": [
    "# your code here\n",
    "grid = ParamGridBuilder().addGrid(logistic.regParam, [0.01, 0.5,2.0]).addGrid(logistic.elasticNetParam, [0.0, 0.5, 0.1]).build()\n",
    "evaluator = BinaryClassificationEvaluator(labelCol='spam', metricName='areaUnderROC')\n",
    "cv2 = CrossValidator(estimator=pipe1, estimatorParamMaps=grid,numFolds=3,evaluator=evaluator,seed=70)\n",
    "fitted_cv2 = cv2.fit(spam_df3)\n"
   ]
  },
  {
   "cell_type": "markdown",
   "metadata": {},
   "source": [
    "### Grading feedback"
   ]
  },
  {
   "cell_type": "markdown",
   "metadata": {},
   "source": [
    "# Question 9\n",
    "- Print the resulting AUC from fitted_cv2. \n",
    "- Print the best model's L1 and L2 regularization parameters\n",
    "- Analyze the L1 feature selection:\n",
    "    - Print the total number of features\n",
    "    - Print the number of features that L1 regularization eliminated\n",
    "    - If any features were eliminated, print a sample of 10 words that were eliminated"
   ]
  },
  {
   "cell_type": "code",
   "execution_count": 35,
   "metadata": {},
   "outputs": [
    {
     "name": "stdout",
     "output_type": "stream",
     "text": [
      "1. Area under ROC Curve:1.0\n",
      "2. Regularization parameter:  0.5\n",
      "3. Elastic net regularization parameter:  0.0\n",
      "4. Total number of features:  13361\n",
      "5. Number of features that L1 regularization eliminated:  167\n",
      "6. 10 Words eliminated by L1:  ['wer', 'girl??', '\"storming', 'phne,', '\"height', 'grahmbell', 'girl..!', 'telphone...', 'invnted', '\"short']\n"
     ]
    }
   ],
   "source": [
    "# your code here\n",
    "roc2 = evaluator.evaluate(fitted_cv2.transform(spam_df3))\n",
    "print(f\"1. Area under ROC Curve:{roc2}\")\n",
    "\n",
    "bestPipe = fitted_cv2.bestModel\n",
    "bestLRModel = bestPipe.stages[0]\n",
    "bestParams = bestLRModel.extractParamMap()\n",
    "bestParams\n",
    "print(\"2. Regularization parameter: \", bestParams[bestLRModel.getParam(\"regParam\")])\n",
    "print(\"3. Elastic net regularization parameter: \", bestParams[bestLRModel.getParam(\"elasticNetParam\")])\n",
    "\n",
    "voc1 = p_transformer.stages[0].vocabulary\n",
    "print(\"4. Total number of features: \", len(voc1))\n",
    "\n",
    "weights = fitted_cv2.bestModel.stages[0].coefficients.toArray()\n",
    "print(\"5. Number of features that L1 regularization eliminated: \", len(weights[weights == 0]))\n",
    "w = list(weights)\n",
    "p = {}\n",
    "for i in range(len(w)):\n",
    "    p[voc1[i]] = fabs(w[i])\n",
    "    \n",
    "e_words = []\n",
    "for item  in p.items():\n",
    "    if item[1] == 0:\n",
    "        e_words.append(item[0])\n",
    "print(\"6. 10 Words eliminated by L1: \", e_words[0:10])"
   ]
  },
  {
   "cell_type": "markdown",
   "metadata": {},
   "source": [
    "### Grading Feedback\n",
    "-3 Multiple problems\n",
    "- We were looking for AUC from the cross validation but would have accpted AUC from test data too.  You used training data which is probably why the accuracy is 100%.<br>\n",
    "- We were looking for the actual L1/L2 multipliers not alpha and lambda"
   ]
  },
  {
   "cell_type": "markdown",
   "metadata": {},
   "source": [
    "# Question 10\n",
    "Analyze the best model weights in fitted_cv2.  Print the 10 words that contribute the most to predicting spam.  Print the 10 words that contribute the least to predicting spam.  Do the words make sense?  Explain."
   ]
  },
  {
   "cell_type": "code",
   "execution_count": 36,
   "metadata": {},
   "outputs": [
    {
     "name": "stdout",
     "output_type": "stream",
     "text": [
      "Words that contribute the most:\n",
      "\n",
      "1. Word:07090201529,  Weight:0.20788513001455278\n",
      "2. Word:sexy?,  Weight:0.18330060607843854\n",
      "3. Word:£12,  Weight:0.17754713185425383\n",
      "4. Word:0207-083-6089,  Weight:0.17746146392909284\n",
      "5. Word:08714712388,  Weight:0.17269768305895794\n",
      "6. Word:stories,  Weight:0.17026475676389002\n",
      "7. Word:08718738034.,  Weight:0.17019762679882186\n",
      "8. Word:08712400200.,  Weight:0.17019762679882186\n",
      "9. Word:08715205273,  Weight:0.17019762679882186\n",
      "10. Word:gbp/sms,  Weight:0.16687348522733023\n",
      "\n",
      "Words that contribute the least:\n",
      "\n",
      "1. Word:wer,  Weight:0.0\n",
      "2. Word:girl??,  Weight:0.0\n",
      "3. Word:\"storming,  Weight:0.0\n",
      "4. Word:phne,,  Weight:0.0\n",
      "5. Word:\"height,  Weight:0.0\n",
      "6. Word:grahmbell,  Weight:0.0\n",
      "7. Word:girl..!,  Weight:0.0\n",
      "8. Word:telphone...,  Weight:0.0\n",
      "9. Word:invnted,  Weight:0.0\n",
      "10. Word:\"short,  Weight:0.0\n"
     ]
    }
   ],
   "source": [
    "# your code here\n",
    "most_words = sorted(p.items(), key=lambda x: x[1], reverse=True)[0:10]\n",
    "least_words = sorted(p.items(), key=lambda x: x[1], reverse=False)[0:10]\n",
    "\n",
    "print(\"Words that contribute the most:\\n\")\n",
    "for i in range(10):\n",
    "    print(f\"{i + 1}. Word:{most_words[i][0]},  Weight:{most_words[i][1]}\")\n",
    "\n",
    "\n",
    "print(\"\\nWords that contribute the least:\\n\")\n",
    "for i in range(10):\n",
    "    print(f\"{i + 1}. Word:{least_words[i][0]},  Weight:{least_words[i][1]}\")    \n",
    "    \n"
   ]
  },
  {
   "cell_type": "markdown",
   "metadata": {},
   "source": [
    "Your comments here: The words that have 0.0 weights associated contribute the least. The Word:07090201529 has the highest weight hence contributes the most in predicting spam."
   ]
  },
  {
   "cell_type": "markdown",
   "metadata": {},
   "source": [
    "### Grading Feedback\n",
    "Your words don't look correct.  I'm wondering if it is because you didn't remove stop words."
   ]
  },
  {
   "cell_type": "markdown",
   "metadata": {},
   "source": [
    "**Extra Credit (5 pts)**  This question is optional.  If you choose to answer this question, you will earn 5 extra credit points.  If you choose not to answer this question, no points will be deducted from your score.  Solve the following equation for $c$ symbolically using the python sympy package.  Convert the solved symbolic solution to a latex format (this can be done with a pyton call), then populate the solution cell with the resulting latex code so that your solution shows up symbolically similar the equation below.\n",
    "\n",
    "$$c g - c h + e \\left(a + 1\\right)^{b} - \\frac{d \\left(\\left(a + 1\\right)^{b} - 1\\right)}{a} + \\frac{f \\left(\\left(a + 1\\right)^{b} - 1\\right)}{a} = 0$$"
   ]
  },
  {
   "cell_type": "code",
   "execution_count": 37,
   "metadata": {},
   "outputs": [],
   "source": [
    "# do not delete or change this cell\n",
    "import pyspark.sql.functions as fn\n",
    "# if running on data bricks\n",
    "if is_databricks():\n",
    "    # install sympy\n",
    "    dbutils.library.installPyPI\n",
    "    dbutils.library.installPyPI('sympy')\n",
    "    print(dbutils.library.list())"
   ]
  },
  {
   "cell_type": "code",
   "execution_count": 38,
   "metadata": {},
   "outputs": [
    {
     "name": "stdout",
     "output_type": "stream",
     "text": [
      "\\left[ \\frac{- a e \\left(a + 1\\right)^{b} + d \\left(a + 1\\right)^{b} - d - f \\left(a + 1\\right)^{b} + f}{a \\left(g - h\\right)}\\right]\n"
     ]
    }
   ],
   "source": [
    "# your code here\n",
    "import sympy as sp\n",
    "from sympy import Eq, solve\n",
    "c, g, h, a, b, d, e, f = sp.symbols('c g h a b d e f')\n",
    "equat = ((((c*g) - (c*h) + (e*((a + 1)**b))))-((d*(((a + 1)**b) - 1))/a)+((f*(((a + 1)**b) - 1))/a))\n",
    "equation = Eq(equat)\n",
    "s=solve(equation, c)\n",
    "print(sp.latex(s))"
   ]
  },
  {
   "cell_type": "markdown",
   "metadata": {},
   "source": [
    "Add your latex output here such that a human readable equation is displayed for grading:\n",
    "$$\\left[ \\frac{- a e \\left(a + 1\\right)^{b} + d \\left(a + 1\\right)^{b} - d - f \\left(a + 1\\right)^{b} + f}{a \\left(g - h\\right)}\\right]$$"
   ]
  },
  {
   "cell_type": "markdown",
   "metadata": {},
   "source": [
    "### Grading Feedback\n",
    "+5"
   ]
  }
 ],
 "metadata": {
  "kernelspec": {
   "display_name": "Python 3",
   "language": "python",
   "name": "python3"
  },
  "language_info": {
   "codemirror_mode": {
    "name": "ipython",
    "version": 3
   },
   "file_extension": ".py",
   "mimetype": "text/x-python",
   "name": "python",
   "nbconvert_exporter": "python",
   "pygments_lexer": "ipython3",
   "version": "3.7.6"
  }
 },
 "nbformat": 4,
 "nbformat_minor": 4
}
